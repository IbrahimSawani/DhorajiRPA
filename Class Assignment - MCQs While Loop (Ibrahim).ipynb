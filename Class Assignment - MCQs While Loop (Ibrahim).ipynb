{
 "cells": [
  {
   "cell_type": "code",
   "execution_count": 1,
   "metadata": {},
   "outputs": [],
   "source": [
    "Questions = [\n",
    "    {\n",
    "        \"Question\" : \"What is the national sport of Pakistan?\",\n",
    "        \"Option 1\" : \"Cricket\",\n",
    "        \"Option 2\" : \"Hockey\",\n",
    "        \"Option 3\" : \"Volley Ball\",\n",
    "        \"Option 4\" : \"Swimming\",\n",
    "        \"Answer\" : \"Hockey\"\n",
    "    },\n",
    "    {\n",
    "        \"Question\" : \"What is the national flower of Pakistan?\",\n",
    "        \"Option 1\" : \"Lilly\",\n",
    "        \"Option 2\" : \"Rose\",\n",
    "        \"Option 3\" : \"White Jasmine\",\n",
    "        \"Option 4\" : \"Daisy\",\n",
    "        \"Answer\" : \"White Jasmine\"\n",
    "    },\n",
    "    {\n",
    "        \"Question\" : \"What is the national animal of Pakistan?\",\n",
    "        \"Option 1\" : \"Lion\",\n",
    "        \"Option 2\" : \"Tiger\",\n",
    "        \"Option 3\" : \"Elephant\",\n",
    "        \"Option 4\" : \"Markhor\",\n",
    "        \"Answer\" : \"Markhor\"\n",
    "    },\n",
    "    {\n",
    "        \"Question\" : \"What is the national cuisine of Pakistan?\",\n",
    "        \"Option 1\" : \"Nihari\",\n",
    "        \"Option 2\" : \"Biryani\",\n",
    "        \"Option 3\" : \"Karhai\",\n",
    "        \"Option 4\" : \"Daal Chawal\",\n",
    "        \"Answer\" : \"Nihari\"\n",
    "    },\n",
    "    {\n",
    "        \"Question\" : \"Pakistan is located in which region of Asia?\",\n",
    "        \"Option 1\" : \"East Asia\",\n",
    "        \"Option 2\" : \"West Asia\",\n",
    "        \"Option 3\" : \"South Asia\",\n",
    "        \"Option 4\" : \"North Asia\",\n",
    "        \"Answer\" : \"South Asia\"\n",
    "    },\n",
    "]"
   ]
  },
  {
   "cell_type": "code",
   "execution_count": 2,
   "metadata": {},
   "outputs": [
    {
     "data": {
      "text/plain": [
       "5"
      ]
     },
     "execution_count": 2,
     "metadata": {},
     "output_type": "execute_result"
    }
   ],
   "source": [
    "len(Questions)"
   ]
  },
  {
   "cell_type": "code",
   "execution_count": 7,
   "metadata": {},
   "outputs": [
    {
     "name": "stdout",
     "output_type": "stream",
     "text": [
      "Question: What is the national sport of Pakistan?\n",
      "Option 1: Cricket\n",
      "Option 2: Hockey\n",
      "Option 3: Volley Ball\n",
      "Option 4: Swimming\n",
      "Please input your Answer: hockey\n",
      "Your Answer is Correct!\n",
      "Question: What is the national flower of Pakistan?\n",
      "Option 1: Lilly\n",
      "Option 2: Rose\n",
      "Option 3: White Jasmine\n",
      "Option 4: Daisy\n",
      "Please input your Answer: white jasmine\n",
      "Your Answer is Correct!\n",
      "Question: What is the national animal of Pakistan?\n",
      "Option 1: Lion\n",
      "Option 2: Tiger\n",
      "Option 3: Elephant\n",
      "Option 4: Markhor\n",
      "Please input your Answer: markhor\n",
      "Your Answer is Correct!\n",
      "Question: What is the national cuisine of Pakistan?\n",
      "Option 1: Nihari\n",
      "Option 2: Biryani\n",
      "Option 3: Karhai\n",
      "Option 4: Daal Chawal\n",
      "Please input your Answer: nihari\n",
      "Your Answer is Correct!\n",
      "Question: Pakistan is located in which region of Asia?\n",
      "Option 1: East Asia\n",
      "Option 2: West Asia\n",
      "Option 3: South Asia\n",
      "Option 4: North Asia\n",
      "Please input your Answer: south asia\n",
      "Your Answer is Correct!\n"
     ]
    }
   ],
   "source": [
    "length = len(Questions)\n",
    "\n",
    "i = 0\n",
    "\n",
    "while i < length:\n",
    "        \n",
    "    Ques = Questions[i][\"Question\"]\n",
    "    Opt1 = Questions[i][\"Option 1\"]\n",
    "    Opt2 = Questions[i][\"Option 2\"]\n",
    "    Opt3 = Questions[i][\"Option 3\"]\n",
    "    Opt4 = Questions[i][\"Option 4\"]\n",
    "    Ans = Questions[i][\"Answer\"]\n",
    "        \n",
    "    print(\"Question: \" + Ques)\n",
    "    print(\"Option 1: \" + Opt1)\n",
    "    print(\"Option 2: \" + Opt2)\n",
    "    print(\"Option 3: \" + Opt3)\n",
    "    print(\"Option 4: \" + Opt4)\n",
    "       \n",
    "    UserInput = input(\"Please input your Answer: \")\n",
    "    \n",
    "    ans = UserInput.title()\n",
    "    \n",
    "    if ans == Ans:\n",
    "        print(\"Your Answer is Correct!\")\n",
    "        i = i + 1\n",
    "        \n",
    "    else:\n",
    "        print(\"Your Answer is Wrong!\")\n",
    "        break"
   ]
  },
  {
   "cell_type": "code",
   "execution_count": 5,
   "metadata": {},
   "outputs": [
    {
     "data": {
      "text/plain": [
       "'South Asia'"
      ]
     },
     "execution_count": 5,
     "metadata": {},
     "output_type": "execute_result"
    }
   ],
   "source": [
    "Ans.title()"
   ]
  },
  {
   "cell_type": "code",
   "execution_count": null,
   "metadata": {},
   "outputs": [],
   "source": []
  }
 ],
 "metadata": {
  "kernelspec": {
   "display_name": "Python 3",
   "language": "python",
   "name": "python3"
  },
  "language_info": {
   "codemirror_mode": {
    "name": "ipython",
    "version": 3
   },
   "file_extension": ".py",
   "mimetype": "text/x-python",
   "name": "python",
   "nbconvert_exporter": "python",
   "pygments_lexer": "ipython3",
   "version": "3.8.5"
  }
 },
 "nbformat": 4,
 "nbformat_minor": 4
}
