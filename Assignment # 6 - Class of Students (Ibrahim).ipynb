{
 "cells": [
  {
   "cell_type": "code",
   "execution_count": 98,
   "id": "0ebf0662",
   "metadata": {},
   "outputs": [],
   "source": [
    "class Student():\n",
    "    def __init__(self, First_Name, Last_Name, Age, Class, Roll_Number):\n",
    "        self.First_Name = First_Name\n",
    "        self.Last_Name = Last_Name\n",
    "        self.Age = Age\n",
    "        self.Class = Class\n",
    "        self.Roll_Number = Roll_Number\n",
    "    \n",
    "    def main(self):\n",
    "        print(\"First Name: \" + self.First_Name)\n",
    "        print(\"Last Name: \" + self.Last_Name)\n",
    "        print(\"Age: \" + self.Age)\n",
    "        print(\"Class: \" + self.Class)\n",
    "        print(\"Roll Number: \" + self.Roll_Number)"
   ]
  },
  {
   "cell_type": "code",
   "execution_count": 99,
   "id": "28a89d37",
   "metadata": {
    "scrolled": true
   },
   "outputs": [
    {
     "name": "stdout",
     "output_type": "stream",
     "text": [
      "Enter First Name: Ibrahim\n",
      "Enter Last Name: Amin\n",
      "Enter Age: 15\n",
      "Enter Class: 9th\n",
      "Enter Roll Number: 52\n",
      "Enter First Name: Ahsan\n",
      "Enter Last Name: Sultan\n",
      "Enter Age: 14\n",
      "Enter Class: 8th\n",
      "Enter Roll Number: 45\n"
     ]
    }
   ],
   "source": [
    "for i in range(1, 3):\n",
    "    j = \"STID\" + str(i)\n",
    "    First_Name = str(input(\"Enter First Name: \"))\n",
    "    Last_Name = str(input(\"Enter Last Name: \"))\n",
    "    Age = str(input(\"Enter Age: \"))\n",
    "    Class = str(input(\"Enter Class: \"))\n",
    "    Roll_Number = str(input(\"Enter Roll Number: \"))\n",
    "    globals()[j] = Student(First_Name, Last_Name, Age, Class, Roll_Number)"
   ]
  },
  {
   "cell_type": "code",
   "execution_count": 100,
   "id": "84a148a5",
   "metadata": {
    "scrolled": true
   },
   "outputs": [
    {
     "name": "stdout",
     "output_type": "stream",
     "text": [
      "First Name: Ibrahim\n",
      "Last Name: Amin\n",
      "Age: 15\n",
      "Class: 9th\n",
      "Roll Number: 52\n"
     ]
    }
   ],
   "source": [
    "STID1.main()"
   ]
  },
  {
   "cell_type": "code",
   "execution_count": 101,
   "id": "b8663f65",
   "metadata": {},
   "outputs": [
    {
     "name": "stdout",
     "output_type": "stream",
     "text": [
      "First Name: Ahsan\n",
      "Last Name: Sultan\n",
      "Age: 14\n",
      "Class: 8th\n",
      "Roll Number: 45\n"
     ]
    }
   ],
   "source": [
    "STID2.main()"
   ]
  },
  {
   "cell_type": "code",
   "execution_count": 110,
   "id": "2f395072",
   "metadata": {},
   "outputs": [],
   "source": [
    "Student_List=[]\n",
    "\n",
    "def list():\n",
    "    Student_List.append(Student)"
   ]
  },
  {
   "cell_type": "code",
   "execution_count": 111,
   "id": "f7279bed",
   "metadata": {
    "scrolled": true
   },
   "outputs": [],
   "source": [
    "list()"
   ]
  },
  {
   "cell_type": "code",
   "execution_count": 112,
   "id": "dcb4f0cf",
   "metadata": {},
   "outputs": [
    {
     "data": {
      "text/plain": [
       "[__main__.Student]"
      ]
     },
     "execution_count": 112,
     "metadata": {},
     "output_type": "execute_result"
    }
   ],
   "source": [
    "Student_List"
   ]
  },
  {
   "cell_type": "code",
   "execution_count": 103,
   "id": "0fc65c14",
   "metadata": {},
   "outputs": [
    {
     "data": {
      "text/plain": [
       "'Ibrahim'"
      ]
     },
     "execution_count": 103,
     "metadata": {},
     "output_type": "execute_result"
    }
   ],
   "source": [
    "STID1.First_Name"
   ]
  },
  {
   "cell_type": "code",
   "execution_count": 104,
   "id": "25b6393e",
   "metadata": {},
   "outputs": [
    {
     "data": {
      "text/plain": [
       "'Ahsan'"
      ]
     },
     "execution_count": 104,
     "metadata": {},
     "output_type": "execute_result"
    }
   ],
   "source": [
    "STID2.First_Name"
   ]
  },
  {
   "cell_type": "code",
   "execution_count": 39,
   "id": "f70e349e",
   "metadata": {},
   "outputs": [
    {
     "name": "stdout",
     "output_type": "stream",
     "text": [
      "STID1\n",
      "STID2\n",
      "STID3\n",
      "STID4\n",
      "STID5\n",
      "STID6\n",
      "STID7\n",
      "STID8\n",
      "STID9\n"
     ]
    }
   ],
   "source": [
    "for i in range(1, 10):\n",
    "    j = \"STID\" + str(i)\n",
    "    print(j)"
   ]
  },
  {
   "cell_type": "code",
   "execution_count": null,
   "id": "113184f7",
   "metadata": {},
   "outputs": [],
   "source": []
  },
  {
   "cell_type": "code",
   "execution_count": null,
   "id": "40552ccf",
   "metadata": {},
   "outputs": [],
   "source": []
  },
  {
   "cell_type": "code",
   "execution_count": null,
   "id": "e27ab763",
   "metadata": {},
   "outputs": [],
   "source": []
  },
  {
   "cell_type": "code",
   "execution_count": null,
   "id": "bc1fc853",
   "metadata": {},
   "outputs": [],
   "source": []
  },
  {
   "cell_type": "code",
   "execution_count": null,
   "id": "ae831bce",
   "metadata": {},
   "outputs": [],
   "source": []
  },
  {
   "cell_type": "code",
   "execution_count": null,
   "id": "a4424820",
   "metadata": {},
   "outputs": [],
   "source": []
  }
 ],
 "metadata": {
  "kernelspec": {
   "display_name": "Python 3",
   "language": "python",
   "name": "python3"
  },
  "language_info": {
   "codemirror_mode": {
    "name": "ipython",
    "version": 3
   },
   "file_extension": ".py",
   "mimetype": "text/x-python",
   "name": "python",
   "nbconvert_exporter": "python",
   "pygments_lexer": "ipython3",
   "version": "3.8.8"
  }
 },
 "nbformat": 4,
 "nbformat_minor": 5
}
