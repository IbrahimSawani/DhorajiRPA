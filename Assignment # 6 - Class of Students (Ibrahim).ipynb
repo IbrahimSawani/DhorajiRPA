{
 "cells": [
  {
   "cell_type": "code",
   "execution_count": 5,
   "metadata": {},
   "outputs": [],
   "source": [
    "class Student():\n",
    "    def __init__(self, First_Name, Last_Name, Age, Class, Roll_Number):\n",
    "        self.First_Name = First_Name\n",
    "        self.Last_Name = Last_Name\n",
    "        self.Age = Age\n",
    "        self.Class = Class\n",
    "        self.Roll_Number = Roll_Number\n",
    "    \n",
    "    def main(self):\n",
    "        print(\"First Name: \" + self.First_Name)\n",
    "        print(\"Last Name: \" + self.Last_Name)\n",
    "        print(\"Age: \" + self.Age)\n",
    "        print(\"Class: \" + self.Class)\n",
    "        print(\"Roll Number: \" + self.Roll_Number)"
   ]
  },
  {
   "cell_type": "code",
   "execution_count": 6,
   "metadata": {
    "scrolled": true
   },
   "outputs": [
    {
     "name": "stdout",
     "output_type": "stream",
     "text": [
      "Enter First Name: Ibrahim\n",
      "Enter Last Name: Amin\n",
      "Enter Age: 12\n",
      "Enter Class: 5th\n",
      "Enter Roll Number: 123\n",
      "Enter First Name: Ahsan\n",
      "Enter Last Name: Sultan\n",
      "Enter Age: 11\n",
      "Enter Class: 4th\n",
      "Enter Roll Number: 145\n"
     ]
    }
   ],
   "source": [
    "for i in range(1, 3):\n",
    "    j = \"STID\" + str(i)\n",
    "    First_Name = str(input(\"Enter First Name: \"))\n",
    "    Last_Name = str(input(\"Enter Last Name: \"))\n",
    "    Age = str(input(\"Enter Age: \"))\n",
    "    Class = str(input(\"Enter Class: \"))\n",
    "    Roll_Number = str(input(\"Enter Roll Number: \"))\n",
    "    globals()[j] = Student(First_Name, Last_Name, Age, Class, Roll_Number)"
   ]
  },
  {
   "cell_type": "code",
   "execution_count": 7,
   "metadata": {
    "scrolled": true
   },
   "outputs": [
    {
     "name": "stdout",
     "output_type": "stream",
     "text": [
      "First Name: Ibrahim\n",
      "Last Name: Amin\n",
      "Age: 12\n",
      "Class: 5th\n",
      "Roll Number: 123\n"
     ]
    }
   ],
   "source": [
    "STID1.main()"
   ]
  },
  {
   "cell_type": "code",
   "execution_count": 8,
   "metadata": {},
   "outputs": [
    {
     "name": "stdout",
     "output_type": "stream",
     "text": [
      "First Name: Ahsan\n",
      "Last Name: Sultan\n",
      "Age: 11\n",
      "Class: 4th\n",
      "Roll Number: 145\n"
     ]
    }
   ],
   "source": [
    "STID2.main()"
   ]
  },
  {
   "cell_type": "code",
   "execution_count": 18,
   "metadata": {},
   "outputs": [],
   "source": [
    "First_Names=[]\n",
    "Last_Names=[]\n",
    "\n",
    "def list_first_names():\n",
    "    First_Names.append(STID1.First_Name)\n",
    "    First_Names.append(STID2.First_Name)\n",
    "    print(First_Names)\n",
    "    \n",
    "def list_last_names():\n",
    "    Last_Names.append(STID1.Last_Name)\n",
    "    Last_Names.append(STID2.Last_Name)\n",
    "    print(Last_Names)"
   ]
  },
  {
   "cell_type": "code",
   "execution_count": 17,
   "metadata": {
    "scrolled": true
   },
   "outputs": [
    {
     "name": "stdout",
     "output_type": "stream",
     "text": [
      "['Ibrahim', 'Ahsan']\n"
     ]
    }
   ],
   "source": [
    "list_first_names()"
   ]
  },
  {
   "cell_type": "code",
   "execution_count": 19,
   "metadata": {},
   "outputs": [
    {
     "name": "stdout",
     "output_type": "stream",
     "text": [
      "['Amin', 'Sultan']\n"
     ]
    }
   ],
   "source": [
    "list_last_names()"
   ]
  },
  {
   "cell_type": "code",
   "execution_count": 20,
   "metadata": {},
   "outputs": [
    {
     "data": {
      "text/plain": [
       "'Ibrahim'"
      ]
     },
     "execution_count": 20,
     "metadata": {},
     "output_type": "execute_result"
    }
   ],
   "source": [
    "STID1.First_Name"
   ]
  },
  {
   "cell_type": "code",
   "execution_count": 21,
   "metadata": {},
   "outputs": [
    {
     "data": {
      "text/plain": [
       "'Ahsan'"
      ]
     },
     "execution_count": 21,
     "metadata": {},
     "output_type": "execute_result"
    }
   ],
   "source": [
    "STID2.First_Name"
   ]
  },
  {
   "cell_type": "code",
   "execution_count": null,
   "metadata": {},
   "outputs": [],
   "source": []
  },
  {
   "cell_type": "code",
   "execution_count": null,
   "metadata": {},
   "outputs": [],
   "source": []
  },
  {
   "cell_type": "code",
   "execution_count": null,
   "metadata": {},
   "outputs": [],
   "source": []
  },
  {
   "cell_type": "code",
   "execution_count": null,
   "metadata": {},
   "outputs": [],
   "source": []
  },
  {
   "cell_type": "code",
   "execution_count": null,
   "metadata": {},
   "outputs": [],
   "source": []
  },
  {
   "cell_type": "code",
   "execution_count": null,
   "metadata": {},
   "outputs": [],
   "source": []
  }
 ],
 "metadata": {
  "kernelspec": {
   "display_name": "Python 3",
   "language": "python",
   "name": "python3"
  },
  "language_info": {
   "codemirror_mode": {
    "name": "ipython",
    "version": 3
   },
   "file_extension": ".py",
   "mimetype": "text/x-python",
   "name": "python",
   "nbconvert_exporter": "python",
   "pygments_lexer": "ipython3",
   "version": "3.8.5"
  }
 },
 "nbformat": 4,
 "nbformat_minor": 5
}
