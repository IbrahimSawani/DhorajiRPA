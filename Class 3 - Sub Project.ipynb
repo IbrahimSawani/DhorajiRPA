{
 "cells": [
  {
   "cell_type": "code",
   "execution_count": 9,
   "id": "1e401444",
   "metadata": {},
   "outputs": [
    {
     "name": "stdout",
     "output_type": "stream",
     "text": [
      "Enter Age: 20\n",
      "Enter Gender: female\n",
      "You are not allowed to ride a bike\n"
     ]
    }
   ],
   "source": [
    "age=input(\"Enter Age: \")\n",
    "\n",
    "if int(age)>=18:\n",
    "    gender=input(\"Enter Gender: \")\n",
    "    if gender == \"male\" or gender == \"Male\":\n",
    "        print(\"You are allowed to ride a bike\")\n",
    "        \n",
    "    elif gender == \"female\" or gender == \"Female\":\n",
    "        print(\"You are not allowed to ride a bike\")\n",
    "        \n",
    "else:\n",
    "    print(\"You are under age\")"
   ]
  },
  {
   "cell_type": "code",
   "execution_count": null,
   "id": "6a10df23",
   "metadata": {},
   "outputs": [],
   "source": []
  },
  {
   "cell_type": "code",
   "execution_count": null,
   "id": "20306f06",
   "metadata": {},
   "outputs": [],
   "source": []
  }
 ],
 "metadata": {
  "kernelspec": {
   "display_name": "Python 3",
   "language": "python",
   "name": "python3"
  },
  "language_info": {
   "codemirror_mode": {
    "name": "ipython",
    "version": 3
   },
   "file_extension": ".py",
   "mimetype": "text/x-python",
   "name": "python",
   "nbconvert_exporter": "python",
   "pygments_lexer": "ipython3",
   "version": "3.8.8"
  }
 },
 "nbformat": 4,
 "nbformat_minor": 5
}
