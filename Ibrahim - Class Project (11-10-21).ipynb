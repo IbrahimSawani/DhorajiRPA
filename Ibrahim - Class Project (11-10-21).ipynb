{
 "cells": [
  {
   "cell_type": "code",
   "execution_count": 6,
   "metadata": {},
   "outputs": [
    {
     "name": "stdout",
     "output_type": "stream",
     "text": [
      "Enter Age: 25\n",
      "Enter Height - inches: 72\n",
      "Enter Weight - kgs: 70\n",
      "Enter Run Time - seconds: 30\n",
      "Enter Gender: male\n",
      "Congratulation! You are selected in Group A\n"
     ]
    }
   ],
   "source": [
    "age=input(\"Enter Age: \")\n",
    "\n",
    "if int(age)>=18:\n",
    "    height=input(\"Enter Height - inches: \")\n",
    "    weight=input(\"Enter Weight - kgs: \")\n",
    "    runtime=input(\"Enter Run Time - seconds: \")\n",
    "    gender=input(\"Enter Gender: \")\n",
    "    if gender == \"male\" or gender == \"Male\":\n",
    "        if int(height)>=72 and int(weight)<=70 and int(runtime)<=30:\n",
    "            print(\"Congratulation! You are selected in Group A\")\n",
    "        elif int(height)>=72 and int(weight)<=80 and int(runtime)<=40:\n",
    "            print(\"Congratulation! You are selected in Group B\")\n",
    "        elif int(height)<=72 and int(weight)<=70 and int(runtime)>=30:\n",
    "            print(\"Congratulation! You are selected in Group C\")\n",
    "        else:\n",
    "            print(\"Sorry, you have not been selected\")\n",
    "        \n",
    "    elif gender == \"female\" or gender == \"Female\":\n",
    "        print(\"Sorry, you have not been selected\")\n",
    "        \n",
    "else:\n",
    "    print(\"You are under age\")"
   ]
  },
  {
   "cell_type": "code",
   "execution_count": 5,
   "metadata": {},
   "outputs": [
    {
     "name": "stdout",
     "output_type": "stream",
     "text": [
      "Enter Number 1: 25\n",
      "Enter Number 2: 30\n",
      "Enter Mahematical Opeartion: add\n",
      "55\n"
     ]
    }
   ],
   "source": [
    "Number1=int(input(\"Enter Number 1: \"))\n",
    "Number2=int(input(\"Enter Number 2: \"))\n",
    "op=input(\"Enter Mahematical Opeartion: \")\n",
    "\n",
    "if op==\"Add\"or op== \"add\":\n",
    "    print(Number1+Number2)\n",
    "    \n",
    "elif op==\"Subtract\" or op==\"subtract\":\n",
    "    print(\"Number1\"-\"Number2\")\n",
    "    \n",
    "elif op==\"Multiply\" or op==\"multiply\":\n",
    "    print(\"Number1\"*\"Number2\")\n",
    "\n",
    "elif op==\"Divide\" or op==\"divide\":\n",
    "    print(\"Number1\"/\"Number2\")\n",
    "    \n",
    "else:\n",
    "    print(\"This operation does not exist\")"
   ]
  },
  {
   "cell_type": "code",
   "execution_count": null,
   "metadata": {},
   "outputs": [],
   "source": []
  }
 ],
 "metadata": {
  "kernelspec": {
   "display_name": "Python 3",
   "language": "python",
   "name": "python3"
  },
  "language_info": {
   "codemirror_mode": {
    "name": "ipython",
    "version": 3
   },
   "file_extension": ".py",
   "mimetype": "text/x-python",
   "name": "python",
   "nbconvert_exporter": "python",
   "pygments_lexer": "ipython3",
   "version": "3.8.5"
  }
 },
 "nbformat": 4,
 "nbformat_minor": 4
}
