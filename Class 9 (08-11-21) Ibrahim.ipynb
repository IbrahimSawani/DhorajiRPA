{
 "cells": [
  {
   "cell_type": "markdown",
   "metadata": {},
   "source": [
    "# Fuction within Functions"
   ]
  },
  {
   "cell_type": "code",
   "execution_count": 1,
   "metadata": {},
   "outputs": [],
   "source": [
    "def calc(num1, num2):\n",
    "    def add(num1, num2):\n",
    "        res=num1+num2\n",
    "        print(res)\n",
    "    add(num1, num2)\n",
    "    \n",
    "    def sub(num1, num2):\n",
    "        res=num1-num2\n",
    "        print(res)\n",
    "    sub(num1, num2)\n",
    "    \n",
    "    def mul(num1, num2):\n",
    "        res=num1*num2\n",
    "        print(res)\n",
    "    mul(num1, num2)"
   ]
  },
  {
   "cell_type": "code",
   "execution_count": 2,
   "metadata": {},
   "outputs": [
    {
     "name": "stdout",
     "output_type": "stream",
     "text": [
      "6\n",
      "-2\n",
      "8\n"
     ]
    }
   ],
   "source": [
    "calc(2,4)"
   ]
  },
  {
   "cell_type": "code",
   "execution_count": 3,
   "metadata": {},
   "outputs": [],
   "source": [
    "def add(num1, num2):\n",
    "        res=num1+num2\n",
    "        print(res)"
   ]
  },
  {
   "cell_type": "code",
   "execution_count": 4,
   "metadata": {},
   "outputs": [],
   "source": [
    "def sub(num1, num2):\n",
    "        res=num1-num2\n",
    "        print(res)"
   ]
  },
  {
   "cell_type": "code",
   "execution_count": 5,
   "metadata": {},
   "outputs": [],
   "source": [
    "def calc(num1, num2):\n",
    "    add(num1, num2)\n",
    "    sub(num1, num2)"
   ]
  },
  {
   "cell_type": "code",
   "execution_count": 6,
   "metadata": {},
   "outputs": [
    {
     "name": "stdout",
     "output_type": "stream",
     "text": [
      "13\n",
      "-3\n"
     ]
    }
   ],
   "source": [
    "calc(5,8)"
   ]
  },
  {
   "cell_type": "markdown",
   "metadata": {},
   "source": [
    "# While Loops"
   ]
  },
  {
   "cell_type": "code",
   "execution_count": 7,
   "metadata": {},
   "outputs": [
    {
     "name": "stdout",
     "output_type": "stream",
     "text": [
      "Enter Number or Press 'q' to Quit: 65\n",
      "[65]\n",
      "Enter Number or Press 'q' to Quit: 45\n",
      "[65, 45]\n",
      "Enter Number or Press 'q' to Quit: 85\n",
      "[65, 45, 85]\n",
      "Enter Number or Press 'q' to Quit: 12\n",
      "[65, 45, 85, 12]\n",
      "Enter Number or Press 'q' to Quit: 55\n",
      "[65, 45, 85, 12, 55]\n",
      "Enter Number or Press 'q' to Quit: q\n"
     ]
    }
   ],
   "source": [
    "userInput = \"\"\n",
    "nums = []\n",
    "\n",
    "while userInput != \"q\":\n",
    "    num = input(\"Enter Number or Press 'q' to Quit: \")\n",
    "    \n",
    "    if num == \"q\":\n",
    "        break\n",
    "        \n",
    "    else:\n",
    "        nums.append(int(num))\n",
    "        \n",
    "    print(nums)"
   ]
  },
  {
   "cell_type": "code",
   "execution_count": 8,
   "metadata": {},
   "outputs": [
    {
     "data": {
      "text/plain": [
       "[65, 45, 85, 12, 55]"
      ]
     },
     "execution_count": 8,
     "metadata": {},
     "output_type": "execute_result"
    }
   ],
   "source": [
    "nums"
   ]
  },
  {
   "cell_type": "code",
   "execution_count": 9,
   "metadata": {},
   "outputs": [
    {
     "name": "stdout",
     "output_type": "stream",
     "text": [
      "1\n",
      "2\n",
      "3\n",
      "4\n",
      "5\n",
      "6\n",
      "7\n",
      "8\n",
      "9\n",
      "10\n"
     ]
    }
   ],
   "source": [
    "num = 0\n",
    "\n",
    "while num < 10:\n",
    "    num = num + 1\n",
    "    print(num)"
   ]
  },
  {
   "cell_type": "code",
   "execution_count": null,
   "metadata": {},
   "outputs": [],
   "source": []
  },
  {
   "cell_type": "code",
   "execution_count": null,
   "metadata": {},
   "outputs": [],
   "source": []
  },
  {
   "cell_type": "code",
   "execution_count": null,
   "metadata": {},
   "outputs": [],
   "source": []
  },
  {
   "cell_type": "code",
   "execution_count": null,
   "metadata": {},
   "outputs": [],
   "source": []
  },
  {
   "cell_type": "code",
   "execution_count": null,
   "metadata": {},
   "outputs": [],
   "source": []
  },
  {
   "cell_type": "code",
   "execution_count": null,
   "metadata": {},
   "outputs": [],
   "source": []
  },
  {
   "cell_type": "code",
   "execution_count": null,
   "metadata": {},
   "outputs": [],
   "source": []
  }
 ],
 "metadata": {
  "kernelspec": {
   "display_name": "Python 3",
   "language": "python",
   "name": "python3"
  },
  "language_info": {
   "codemirror_mode": {
    "name": "ipython",
    "version": 3
   },
   "file_extension": ".py",
   "mimetype": "text/x-python",
   "name": "python",
   "nbconvert_exporter": "python",
   "pygments_lexer": "ipython3",
   "version": "3.8.5"
  }
 },
 "nbformat": 4,
 "nbformat_minor": 4
}
