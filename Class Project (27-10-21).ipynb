{
 "cells": [
  {
   "cell_type": "code",
   "execution_count": 5,
   "metadata": {},
   "outputs": [],
   "source": [
    "student_database=[]"
   ]
  },
  {
   "cell_type": "code",
   "execution_count": 6,
   "metadata": {},
   "outputs": [
    {
     "name": "stdout",
     "output_type": "stream",
     "text": [
      "Please Enter User ID: 10001\n",
      "Please Enter First Name: Ibrahim\n",
      "Please Enter Last Name: Amin\n",
      "Please Enter Age: 31\n",
      "Please Enter Class: RPA\n"
     ]
    }
   ],
   "source": [
    "student_database.append(\n",
    "    {\n",
    "    \"User ID\": input(\"Please Enter User ID: \"),\n",
    "    \"First Name\": input(\"Please Enter First Name: \"),\n",
    "    \"Last Name\":input(\"Please Enter Last Name: \"),\n",
    "    \"Age\": input(\"Please Enter Age: \"),\n",
    "    \"Class\": input(\"Please Enter Class: \")\n",
    "    }\n",
    ")"
   ]
  },
  {
   "cell_type": "code",
   "execution_count": 7,
   "metadata": {},
   "outputs": [
    {
     "name": "stdout",
     "output_type": "stream",
     "text": [
      "{'User ID': '10001', 'First Name': 'Ibrahim', 'Last Name': 'Amin', 'Age': '31', 'Class': 'RPA'}\n"
     ]
    }
   ],
   "source": [
    "for single_dic in student_database:\n",
    "    print(single_dic)"
   ]
  },
  {
   "cell_type": "code",
   "execution_count": null,
   "metadata": {},
   "outputs": [],
   "source": [
    "# NEW APPROACH"
   ]
  },
  {
   "cell_type": "code",
   "execution_count": 17,
   "metadata": {},
   "outputs": [],
   "source": [
    "database=[]"
   ]
  },
  {
   "cell_type": "code",
   "execution_count": 18,
   "metadata": {},
   "outputs": [],
   "source": [
    "summ=0"
   ]
  },
  {
   "cell_type": "code",
   "execution_count": 24,
   "metadata": {},
   "outputs": [
    {
     "name": "stdout",
     "output_type": "stream",
     "text": [
      "Please Enter User ID: 1001\n",
      "Please Enter First Name: ali\n",
      "Please Enter Last Name: abbas\n",
      "Please Enter Age: 14\n",
      "Please Enter Class: 9\n",
      "Please Enter User ID: 1002\n",
      "Please Enter First Name: bilal\n",
      "Please Enter Last Name: habib\n",
      "Please Enter Age: 15\n",
      "Please Enter Class: 10\n"
     ]
    }
   ],
   "source": [
    "for data in range(2):\n",
    "    dic={\n",
    "        \"User ID\": input(\"Please Enter User ID: \"),\n",
    "        \"First Name\": input(\"Please Enter First Name: \"),\n",
    "        \"Last Name\":input(\"Please Enter Last Name: \"),\n",
    "        \"Age\": input(\"Please Enter Age: \"),\n",
    "        \"Class\": input(\"Please Enter Class: \"),\n",
    "        }\n",
    "    summ = summ + data\n",
    "    database.append(dic)"
   ]
  },
  {
   "cell_type": "code",
   "execution_count": 26,
   "metadata": {},
   "outputs": [
    {
     "name": "stdout",
     "output_type": "stream",
     "text": [
      "0\n",
      "1\n",
      "{'User ID': '1001', 'First Name': 'ali', 'Last Name': 'abbas', 'Age': '14', 'Class': '9'}\n",
      "{'User ID': '1002', 'First Name': 'bilal', 'Last Name': 'habib', 'Age': '15', 'Class': '10'}\n"
     ]
    }
   ],
   "source": [
    "for single_dic in database:\n",
    "    print(single_dic)"
   ]
  },
  {
   "cell_type": "code",
   "execution_count": 27,
   "metadata": {},
   "outputs": [],
   "source": [
    "datacase=[]"
   ]
  },
  {
   "cell_type": "code",
   "execution_count": 41,
   "metadata": {},
   "outputs": [
    {
     "name": "stdout",
     "output_type": "stream",
     "text": [
      "Please Enter User ID: 10005\n",
      "Please Enter First Name: Shahid\n",
      "Please Enter Last Name: Jamal\n",
      "Please Enter Age: 14\n",
      "Please Enter Class: 9\n",
      "Please Enter User ID: 10006\n",
      "Please Enter First Name: Osama\n",
      "Please Enter Last Name: Bilal\n",
      "Please Enter Age: 13\n",
      "Please Enter Class: 8\n"
     ]
    }
   ],
   "source": [
    "for data in range(2):\n",
    "    dic={\n",
    "        \"User ID\": input(\"Please Enter User ID: \"),\n",
    "        \"First Name\": input(\"Please Enter First Name: \"),\n",
    "        \"Last Name\":input(\"Please Enter Last Name: \"),\n",
    "        \"Age\": int(input(\"Please Enter Age: \")),\n",
    "        \"Class\": int(input(\"Please Enter Class: \")),\n",
    "        }\n",
    "    datacase.append(dic)"
   ]
  },
  {
   "cell_type": "code",
   "execution_count": 61,
   "metadata": {},
   "outputs": [
    {
     "name": "stdout",
     "output_type": "stream",
     "text": [
      "{'User ID': '10001', 'First Name': 'Ali', 'Last Name': 'Bilal', 'Age': '5', 'Class': '1'}\n",
      "{'User ID': '10002', 'First Name': 'Habib', 'Last Name': 'Jamal', 'Age': '8', 'Class': '3'}\n",
      "{'User ID': '1003', 'First Name': 'Ahmed', 'Last Name': 'Talal', 'Age': '18', 'Class': '12'}\n",
      "{'User ID': '1004', 'First Name': 'Karim', 'Last Name': 'Talal', 'Age': '15', 'Class': '10'}\n",
      "{'User ID': '10005', 'First Name': 'Shahid', 'Last Name': 'Jamal', 'Age': 14, 'Class': 9}\n",
      "{'User ID': '10006', 'First Name': 'Osama', 'Last Name': 'Bilal', 'Age': 13, 'Class': 8}\n"
     ]
    }
   ],
   "source": [
    "for single_pic in datacase:\n",
    "    print(single_pic)"
   ]
  },
  {
   "cell_type": "code",
   "execution_count": 40,
   "metadata": {},
   "outputs": [
    {
     "name": "stdout",
     "output_type": "stream",
     "text": [
      "Enter Name of Student: Ali\n",
      "{'User ID': '10001', 'First Name': 'Ali', 'Last Name': 'Bilal', 'Age': '5', 'Class': '1'}\n"
     ]
    }
   ],
   "source": [
    "Name=input(\"Enter Name of Student: \")\n",
    "for i in datacase:\n",
    "    if i[\"First Name\"] == Name:\n",
    "        print(i)"
   ]
  },
  {
   "cell_type": "code",
   "execution_count": 45,
   "metadata": {},
   "outputs": [
    {
     "name": "stdout",
     "output_type": "stream",
     "text": [
      "{'User ID': '10005', 'First Name': 'Shahid', 'Last Name': 'Jamal', 'Age': 14, 'Class': 9}\n"
     ]
    }
   ],
   "source": [
    "for j in datacase:\n",
    "    if j[\"Age\"] == 14:\n",
    "        print(j)"
   ]
  },
  {
   "cell_type": "code",
   "execution_count": 55,
   "metadata": {},
   "outputs": [
    {
     "data": {
      "text/plain": [
       "[{'User ID': '10001',\n",
       "  'First Name': 'Ali',\n",
       "  'Last Name': 'Bilal',\n",
       "  'Age': '5',\n",
       "  'Class': '1'},\n",
       " {'User ID': '10002',\n",
       "  'First Name': 'Habib',\n",
       "  'Last Name': 'Jamal',\n",
       "  'Age': '8',\n",
       "  'Class': '3'},\n",
       " {'User ID': '1003',\n",
       "  'First Name': 'Ahmed',\n",
       "  'Last Name': 'Talal',\n",
       "  'Age': '18',\n",
       "  'Class': '12'},\n",
       " {'User ID': '1004',\n",
       "  'First Name': 'Karim',\n",
       "  'Last Name': 'Talal',\n",
       "  'Age': '15',\n",
       "  'Class': '10'},\n",
       " {'User ID': '10005',\n",
       "  'First Name': 'Shahid',\n",
       "  'Last Name': 'Jamal',\n",
       "  'Age': 14,\n",
       "  'Class': 9},\n",
       " {'User ID': '10006',\n",
       "  'First Name': 'Osama',\n",
       "  'Last Name': 'Bilal',\n",
       "  'Age': 13,\n",
       "  'Class': 8}]"
      ]
     },
     "execution_count": 55,
     "metadata": {},
     "output_type": "execute_result"
    }
   ],
   "source": [
    "datacase"
   ]
  },
  {
   "cell_type": "code",
   "execution_count": 60,
   "metadata": {},
   "outputs": [
    {
     "name": "stdout",
     "output_type": "stream",
     "text": [
      "User ID: 10001\n",
      "First Name: Ali\n",
      "Last Name: Bilal\n",
      "Age: 5\n",
      "Class: 1\n",
      "User ID: 10002\n",
      "First Name: Habib\n",
      "Last Name: Jamal\n",
      "Age: 8\n",
      "Class: 3\n",
      "User ID: 1003\n",
      "First Name: Ahmed\n",
      "Last Name: Talal\n",
      "Age: 18\n",
      "Class: 12\n",
      "User ID: 1004\n",
      "First Name: Karim\n",
      "Last Name: Talal\n",
      "Age: 15\n",
      "Class: 10\n",
      "User ID: 10005\n",
      "First Name: Shahid\n",
      "Last Name: Jamal\n",
      "Age: 14\n",
      "Class: 9\n",
      "User ID: 10006\n",
      "First Name: Osama\n",
      "Last Name: Bilal\n",
      "Age: 13\n",
      "Class: 8\n"
     ]
    }
   ],
   "source": [
    "for i in datacase:\n",
    "    for key, value in i.items():\n",
    "        print(str(key) + \": \"+ str(value))"
   ]
  },
  {
   "cell_type": "code",
   "execution_count": 63,
   "metadata": {},
   "outputs": [
    {
     "name": "stdout",
     "output_type": "stream",
     "text": [
      "10001\n",
      "Ali\n",
      "Bilal\n",
      "5\n",
      "1\n",
      "10002\n",
      "Habib\n",
      "Jamal\n",
      "8\n",
      "3\n",
      "1003\n",
      "Ahmed\n",
      "Talal\n",
      "18\n",
      "12\n",
      "1004\n",
      "Karim\n",
      "Talal\n",
      "15\n",
      "10\n",
      "10005\n",
      "Shahid\n",
      "Jamal\n",
      "14\n",
      "9\n",
      "10006\n",
      "Osama\n",
      "Bilal\n",
      "13\n",
      "8\n"
     ]
    }
   ],
   "source": [
    "for i in datacase:\n",
    "    for value in i.values():\n",
    "        print(value)"
   ]
  },
  {
   "cell_type": "code",
   "execution_count": null,
   "metadata": {},
   "outputs": [],
   "source": []
  },
  {
   "cell_type": "code",
   "execution_count": null,
   "metadata": {},
   "outputs": [],
   "source": []
  },
  {
   "cell_type": "markdown",
   "metadata": {},
   "source": [
    "# Range"
   ]
  },
  {
   "cell_type": "code",
   "execution_count": 62,
   "metadata": {},
   "outputs": [
    {
     "name": "stdout",
     "output_type": "stream",
     "text": [
      "2 x  1 =  2\n",
      "2 x  2 =  4\n",
      "2 x  3 =  6\n",
      "2 x  4 =  8\n",
      "2 x  5 =  10\n",
      "2 x  6 =  12\n",
      "2 x  7 =  14\n",
      "2 x  8 =  16\n",
      "2 x  9 =  18\n",
      "2 x  10 =  20\n"
     ]
    }
   ],
   "source": [
    "for i in range(1,11):\n",
    "    print(\"2 x \", i, \"= \", i*2)"
   ]
  },
  {
   "cell_type": "code",
   "execution_count": 64,
   "metadata": {},
   "outputs": [
    {
     "name": "stdout",
     "output_type": "stream",
     "text": [
      "3 x  1 =  3\n",
      "3 x  2 =  6\n",
      "3 x  3 =  9\n",
      "3 x  4 =  12\n",
      "3 x  5 =  15\n",
      "3 x  6 =  18\n",
      "3 x  7 =  21\n",
      "3 x  8 =  24\n",
      "3 x  9 =  27\n",
      "3 x  10 =  30\n"
     ]
    }
   ],
   "source": [
    "for i in range(1,11):\n",
    "    print(\"3 x \", i, \"= \", i*3)"
   ]
  },
  {
   "cell_type": "code",
   "execution_count": 99,
   "metadata": {},
   "outputs": [],
   "source": [
    "cost=500"
   ]
  },
  {
   "cell_type": "code",
   "execution_count": 100,
   "metadata": {},
   "outputs": [],
   "source": [
    "Selling_Prices=[800,1000,1050,1100,750]"
   ]
  },
  {
   "cell_type": "code",
   "execution_count": 101,
   "metadata": {},
   "outputs": [],
   "source": [
    "total_profit=[]"
   ]
  },
  {
   "cell_type": "code",
   "execution_count": 102,
   "metadata": {},
   "outputs": [],
   "source": [
    "for price in Selling_Prices:\n",
    "    profit=price-cost\n",
    "    total_profit.append(profit)"
   ]
  },
  {
   "cell_type": "code",
   "execution_count": 103,
   "metadata": {},
   "outputs": [
    {
     "name": "stdout",
     "output_type": "stream",
     "text": [
      "[300, 500, 550, 600, 250]\n"
     ]
    }
   ],
   "source": [
    "print(total_profit)"
   ]
  },
  {
   "cell_type": "code",
   "execution_count": 104,
   "metadata": {},
   "outputs": [
    {
     "data": {
      "text/plain": [
       "2200"
      ]
     },
     "execution_count": 104,
     "metadata": {},
     "output_type": "execute_result"
    }
   ],
   "source": [
    "sum(total_profit)"
   ]
  },
  {
   "cell_type": "code",
   "execution_count": 105,
   "metadata": {},
   "outputs": [],
   "source": [
    "for i in total_profit:\n",
    "    profit=profit+i"
   ]
  },
  {
   "cell_type": "code",
   "execution_count": 106,
   "metadata": {},
   "outputs": [
    {
     "name": "stdout",
     "output_type": "stream",
     "text": [
      "2450\n"
     ]
    }
   ],
   "source": [
    "print(profit)"
   ]
  },
  {
   "cell_type": "code",
   "execution_count": null,
   "metadata": {},
   "outputs": [],
   "source": []
  }
 ],
 "metadata": {
  "kernelspec": {
   "display_name": "Python 3",
   "language": "python",
   "name": "python3"
  }
 },
 "nbformat": 4,
 "nbformat_minor": 4
}
