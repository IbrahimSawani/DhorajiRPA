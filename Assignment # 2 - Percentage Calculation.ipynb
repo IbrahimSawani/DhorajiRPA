{
 "cells": [
  {
   "cell_type": "markdown",
   "id": "ad1cb75d",
   "metadata": {},
   "source": [
    "# Assignment # 2 - Percentage Calculation"
   ]
  },
  {
   "cell_type": "code",
   "execution_count": null,
   "id": "589b4e22",
   "metadata": {},
   "outputs": [
    {
     "name": "stdout",
     "output_type": "stream",
     "text": [
      "Enter Marks of English:45\n",
      "Enter Marks of Urdu:65\n",
      "Enter Marks of Physics:45\n",
      "Enter Marks of Mathematics:75\n"
     ]
    }
   ],
   "source": [
    "Subjects=[\"English\", \"Urdu\", \"Physics\", \"Mathematics\",\"Computer\"]\n",
    "Total_Marks=500\n",
    "Marks_Obtained=[]\n",
    "for sub in Subjects:\n",
    "    Marks_Obtained.append(int(input(\"Enter Marks of \" + sub + \":\")))\n",
    "Total_Marks_Obtained = sum(Marks_Obtained)\n",
    "Percentage_Obtained = (Total_Marks_Obtained/Total_Marks*100)\n",
    "print(\"Your Total Marks are : \" + str(Total_Marks_Obtained))\n",
    "print(\"Your Percentage is : \" + str(Percentage_Obtained)+\"%\")\n",
    "if Percentage_Obtained >= 80:\n",
    "    print(\"Your grade is A+\")\n",
    "elif Percentage_Obtained >= 70 and Percentage_Obtained <80:\n",
    "    print(\"Your grade is A\")\n",
    "elif Percentage_Obtained >= 60 and Percentage_Obtained <70:\n",
    "    print(\"Your grade is B\")\n",
    "elif Percentage_Obtained >= 50 and Percentage_Obtained <60:\n",
    "    print(\"Your grade is C\")\n",
    "elif Percentage_Obtained >= 40 and Percentage_Obtained <50:\n",
    "    print(\"Your grade is D\")\n",
    "else:\n",
    "    print(\"You are Fail\")"
   ]
  },
  {
   "cell_type": "code",
   "execution_count": 35,
   "id": "92f52d5b",
   "metadata": {},
   "outputs": [
    {
     "name": "stdout",
     "output_type": "stream",
     "text": [
      "['English', 'Urdu', 'Physics', 'Mathematics', 'Computer']\n",
      "[78, 75, 95, 99, 88]\n"
     ]
    }
   ],
   "source": [
    "print(Subjects)\n",
    "print(Marks_Obtained)"
   ]
  },
  {
   "cell_type": "code",
   "execution_count": null,
   "id": "262638b9",
   "metadata": {},
   "outputs": [],
   "source": []
  }
 ],
 "metadata": {
  "kernelspec": {
   "display_name": "Python 3",
   "language": "python",
   "name": "python3"
  },
  "language_info": {
   "codemirror_mode": {
    "name": "ipython",
    "version": 3
   },
   "file_extension": ".py",
   "mimetype": "text/x-python",
   "name": "python",
   "nbconvert_exporter": "python",
   "pygments_lexer": "ipython3",
   "version": "3.8.8"
  }
 },
 "nbformat": 4,
 "nbformat_minor": 5
}
