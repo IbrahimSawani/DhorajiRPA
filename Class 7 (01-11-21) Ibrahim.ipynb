{
 "cells": [
  {
   "cell_type": "markdown",
   "metadata": {},
   "source": [
    "# Creating a dictionary that contains lists"
   ]
  },
  {
   "cell_type": "code",
   "execution_count": 2,
   "metadata": {},
   "outputs": [],
   "source": [
    "Student = {\n",
    "    \"Name\" : \"Murtaza\",\n",
    "    \"Institute\" : \"Dhoraji\",\n",
    "    \"Age\" : 18,\n",
    "    \"Subjects\" : [\"English\", \"Mathematics\", \"Physics\", \"Computer\", \"Chemistry\"],\n",
    "}"
   ]
  },
  {
   "cell_type": "code",
   "execution_count": 4,
   "metadata": {},
   "outputs": [
    {
     "data": {
      "text/plain": [
       "['English', 'Mathematics', 'Physics', 'Computer', 'Chemistry']"
      ]
     },
     "execution_count": 4,
     "metadata": {},
     "output_type": "execute_result"
    }
   ],
   "source": [
    "Student[\"Subjects\"]"
   ]
  },
  {
   "cell_type": "markdown",
   "metadata": {},
   "source": [
    "# Dictionary of Dictionaries"
   ]
  },
  {
   "cell_type": "code",
   "execution_count": 6,
   "metadata": {},
   "outputs": [],
   "source": [
    "Database= {\n",
    "    \"0001\": {\n",
    "        \"Name\" : \"Murtaza\",\n",
    "        \"Institute\" : \"Dhoraji\",\n",
    "        \"Age\" : 18,\n",
    "        \"Subjects\" : [\"English\", \"Mathematics\", \"Physics\", \"Computer\", \"Chemistry\"],\n",
    "    },\n",
    "    \"0002\": {\n",
    "        \"Name\" : \"Hasnain\",\n",
    "        \"Institute\" : \"Dhoraji\",\n",
    "        \"Age\" : 20,\n",
    "        \"Subjects\" : [\"Urdu\", \"Accounting\", \"Economics\", \"Commerce\", \"Statistics\"],\n",
    "    }\n",
    "}"
   ]
  },
  {
   "cell_type": "code",
   "execution_count": 7,
   "metadata": {},
   "outputs": [
    {
     "data": {
      "text/plain": [
       "{'Name': 'Murtaza',\n",
       " 'Institute': 'Dhoraji',\n",
       " 'Age': 18,\n",
       " 'Subjects': ['English', 'Mathematics', 'Physics', 'Computer', 'Chemistry']}"
      ]
     },
     "execution_count": 7,
     "metadata": {},
     "output_type": "execute_result"
    }
   ],
   "source": [
    "Database[\"0001\"]"
   ]
  },
  {
   "cell_type": "code",
   "execution_count": 10,
   "metadata": {},
   "outputs": [
    {
     "name": "stdout",
     "output_type": "stream",
     "text": [
      "['Urdu', 'Accounting', 'Economics', 'Commerce', 'Statistics']\n"
     ]
    }
   ],
   "source": [
    "print(Database[\"0002\"][\"Subjects\"])"
   ]
  },
  {
   "cell_type": "code",
   "execution_count": 11,
   "metadata": {},
   "outputs": [
    {
     "name": "stdout",
     "output_type": "stream",
     "text": [
      "{'0001': {'Name': 'Murtaza', 'Institute': 'Dhoraji', 'Age': 18, 'Subjects': ['English', 'Mathematics', 'Physics', 'Computer', 'Chemistry']}, '0002': {'Name': 'Hasnain', 'Institute': 'Dhoraji', 'Age': 20, 'Subjects': ['Urdu', 'Accounting', 'Economics', 'Commerce', 'Statistics']}}\n"
     ]
    }
   ],
   "source": [
    "print(Database)"
   ]
  },
  {
   "cell_type": "code",
   "execution_count": 13,
   "metadata": {},
   "outputs": [
    {
     "name": "stdout",
     "output_type": "stream",
     "text": [
      "{'Name': 'Hasnain', 'Institute': 'Dhoraji', 'Age': 20, 'Subjects': ['Urdu', 'Accounting', 'Economics', 'Commerce', 'Statistics']}\n"
     ]
    }
   ],
   "source": [
    "print(Database[\"0002\"])"
   ]
  },
  {
   "cell_type": "code",
   "execution_count": 21,
   "metadata": {},
   "outputs": [
    {
     "name": "stdout",
     "output_type": "stream",
     "text": [
      "0001\n",
      "0002\n"
     ]
    }
   ],
   "source": [
    "for key in Database.keys():\n",
    "        print(key)"
   ]
  },
  {
   "cell_type": "code",
   "execution_count": 22,
   "metadata": {},
   "outputs": [
    {
     "name": "stdout",
     "output_type": "stream",
     "text": [
      "{'Name': 'Murtaza', 'Institute': 'Dhoraji', 'Age': 18, 'Subjects': ['English', 'Mathematics', 'Physics', 'Computer', 'Chemistry']}\n",
      "{'Name': 'Hasnain', 'Institute': 'Dhoraji', 'Age': 20, 'Subjects': ['Urdu', 'Accounting', 'Economics', 'Commerce', 'Statistics']}\n"
     ]
    }
   ],
   "source": [
    "for value in Database.values():\n",
    "        print(value)"
   ]
  },
  {
   "cell_type": "code",
   "execution_count": 23,
   "metadata": {},
   "outputs": [
    {
     "name": "stdout",
     "output_type": "stream",
     "text": [
      "0001 {'Name': 'Murtaza', 'Institute': 'Dhoraji', 'Age': 18, 'Subjects': ['English', 'Mathematics', 'Physics', 'Computer', 'Chemistry']}\n",
      "0002 {'Name': 'Hasnain', 'Institute': 'Dhoraji', 'Age': 20, 'Subjects': ['Urdu', 'Accounting', 'Economics', 'Commerce', 'Statistics']}\n"
     ]
    }
   ],
   "source": [
    "for key, value in Database.items():\n",
    "        print(key, value)"
   ]
  },
  {
   "cell_type": "markdown",
   "metadata": {},
   "source": [
    "# Functions"
   ]
  },
  {
   "cell_type": "code",
   "execution_count": 26,
   "metadata": {},
   "outputs": [],
   "source": [
    "def add_numbers():\n",
    "    first_number= int(input(\"Enter First Number :\"))\n",
    "    second_number= int(input(\"Enter Second Number :\"))\n",
    "    total = first_number + second_number\n",
    "    print(total)"
   ]
  },
  {
   "cell_type": "code",
   "execution_count": 27,
   "metadata": {},
   "outputs": [
    {
     "name": "stdout",
     "output_type": "stream",
     "text": [
      "Enter First Number :12546\n",
      "Enter Second Number :14258\n",
      "26804\n"
     ]
    }
   ],
   "source": [
    "add_numbers()"
   ]
  },
  {
   "cell_type": "markdown",
   "metadata": {},
   "source": [
    "# CLASS TASK 1"
   ]
  },
  {
   "cell_type": "code",
   "execution_count": 35,
   "metadata": {},
   "outputs": [],
   "source": [
    "def number_table():\n",
    "    table=int(input(\"Enter Table Number: \"))\n",
    "    for i in range(1,11):\n",
    "        print(table,  \" x \", i, \"= \", i*table)"
   ]
  },
  {
   "cell_type": "code",
   "execution_count": 37,
   "metadata": {},
   "outputs": [
    {
     "name": "stdout",
     "output_type": "stream",
     "text": [
      "Enter Table Number: 7\n",
      "7  x  1 =  7\n",
      "7  x  2 =  14\n",
      "7  x  3 =  21\n",
      "7  x  4 =  28\n",
      "7  x  5 =  35\n",
      "7  x  6 =  42\n",
      "7  x  7 =  49\n",
      "7  x  8 =  56\n",
      "7  x  9 =  63\n",
      "7  x  10 =  70\n"
     ]
    }
   ],
   "source": [
    "number_table()"
   ]
  },
  {
   "cell_type": "markdown",
   "metadata": {},
   "source": [
    "# CLASS TASK 2 "
   ]
  },
  {
   "cell_type": "code",
   "execution_count": 49,
   "metadata": {},
   "outputs": [],
   "source": [
    "def calc():\n",
    "    first_number= int(input(\"Enter First Number :\"))\n",
    "    second_number= int(input(\"Enter Second Number :\"))\n",
    "    operation= (input(\"Enter Operation :\"))\n",
    "    if operation == \"+\":\n",
    "        print(first_number+second_number)\n",
    "    elif operation == \"-\":\n",
    "        print(first_number-second_number)\n",
    "    elif operation == \"*\":\n",
    "        print(first_number*second_number)\n",
    "    elif operation == \"/\":\n",
    "        print(first_number/second_number)\n",
    "    else:\n",
    "        print(\"Unindentified Operation\")"
   ]
  },
  {
   "cell_type": "code",
   "execution_count": 51,
   "metadata": {},
   "outputs": [
    {
     "name": "stdout",
     "output_type": "stream",
     "text": [
      "Enter First Number :5\n",
      "Enter Second Number :6\n",
      "Enter Operation :*\n",
      "30\n"
     ]
    }
   ],
   "source": [
    "calc()"
   ]
  },
  {
   "cell_type": "markdown",
   "metadata": {},
   "source": [
    "# Passing Information to Functions"
   ]
  },
  {
   "cell_type": "code",
   "execution_count": 44,
   "metadata": {},
   "outputs": [],
   "source": [
    "def add_numbers(firstnum, secondnum):\n",
    "    total = firstnum + secondnum\n",
    "    print(total)"
   ]
  },
  {
   "cell_type": "code",
   "execution_count": 45,
   "metadata": {},
   "outputs": [
    {
     "name": "stdout",
     "output_type": "stream",
     "text": [
      "18\n"
     ]
    }
   ],
   "source": [
    "add_numbers(12,6)"
   ]
  },
  {
   "cell_type": "code",
   "execution_count": 46,
   "metadata": {},
   "outputs": [
    {
     "name": "stdout",
     "output_type": "stream",
     "text": [
      "987\n"
     ]
    }
   ],
   "source": [
    "add_numbers(322,665)"
   ]
  },
  {
   "cell_type": "code",
   "execution_count": null,
   "metadata": {},
   "outputs": [],
   "source": []
  },
  {
   "cell_type": "code",
   "execution_count": null,
   "metadata": {},
   "outputs": [],
   "source": []
  },
  {
   "cell_type": "code",
   "execution_count": null,
   "metadata": {},
   "outputs": [],
   "source": []
  },
  {
   "cell_type": "code",
   "execution_count": null,
   "metadata": {},
   "outputs": [],
   "source": []
  }
 ],
 "metadata": {
  "kernelspec": {
   "display_name": "Python 3",
   "language": "python",
   "name": "python3"
  },
  "language_info": {
   "codemirror_mode": {
    "name": "ipython",
    "version": 3
   },
   "file_extension": ".py",
   "mimetype": "text/x-python",
   "name": "python",
   "nbconvert_exporter": "python",
   "pygments_lexer": "ipython3",
   "version": "3.8.5"
  }
 },
 "nbformat": 4,
 "nbformat_minor": 4
}
