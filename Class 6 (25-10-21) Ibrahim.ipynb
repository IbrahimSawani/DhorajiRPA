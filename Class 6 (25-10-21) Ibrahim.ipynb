{
 "cells": [
  {
   "cell_type": "code",
   "execution_count": 1,
   "metadata": {},
   "outputs": [],
   "source": [
    "Student = {\n",
    "    \"First Name\" : \"Ibrahim\",\n",
    "    \"Last Name\" : \"Amin\",\n",
    "    \"Age\" : 31,\n",
    "    \"Designation\" : \"Student\",\n",
    "    \"Institute\" : \"Dhoraji\"\n",
    "}"
   ]
  },
  {
   "cell_type": "code",
   "execution_count": 3,
   "metadata": {},
   "outputs": [
    {
     "data": {
      "text/plain": [
       "'Ibrahim'"
      ]
     },
     "execution_count": 3,
     "metadata": {},
     "output_type": "execute_result"
    }
   ],
   "source": [
    "Student[\"First Name\"]"
   ]
  },
  {
   "cell_type": "code",
   "execution_count": 4,
   "metadata": {},
   "outputs": [
    {
     "data": {
      "text/plain": [
       "'Amin'"
      ]
     },
     "execution_count": 4,
     "metadata": {},
     "output_type": "execute_result"
    }
   ],
   "source": [
    "Student[\"Last Name\"]"
   ]
  },
  {
   "cell_type": "markdown",
   "metadata": {},
   "source": [
    "# Looping through Values"
   ]
  },
  {
   "cell_type": "code",
   "execution_count": 6,
   "metadata": {
    "scrolled": true
   },
   "outputs": [
    {
     "name": "stdout",
     "output_type": "stream",
     "text": [
      "Ibrahim\n",
      "Amin\n",
      "31\n",
      "Student\n",
      "Dhoraji\n"
     ]
    }
   ],
   "source": [
    "for i in Student.values():\n",
    "    print(i)"
   ]
  },
  {
   "cell_type": "markdown",
   "metadata": {},
   "source": [
    "# Looping through Keys"
   ]
  },
  {
   "cell_type": "code",
   "execution_count": 8,
   "metadata": {},
   "outputs": [
    {
     "name": "stdout",
     "output_type": "stream",
     "text": [
      "First Name\n",
      "Last Name\n",
      "Age\n",
      "Designation\n",
      "Institute\n"
     ]
    }
   ],
   "source": [
    "for j in Student.keys():\n",
    "    print(j)"
   ]
  },
  {
   "cell_type": "markdown",
   "metadata": {},
   "source": [
    "# Looping through Items"
   ]
  },
  {
   "cell_type": "code",
   "execution_count": 13,
   "metadata": {},
   "outputs": [
    {
     "name": "stdout",
     "output_type": "stream",
     "text": [
      "First Name: Ibrahim\n",
      "Last Name: Amin\n",
      "Age: 31\n",
      "Designation: Student\n",
      "Institute: Dhoraji\n"
     ]
    }
   ],
   "source": [
    "for key, value in Student.items():\n",
    "    print(str(key) + \": \"+ str(value))"
   ]
  },
  {
   "cell_type": "markdown",
   "metadata": {},
   "source": [
    "# List of Dictionaries"
   ]
  },
  {
   "cell_type": "code",
   "execution_count": 5,
   "metadata": {},
   "outputs": [],
   "source": [
    "database= [\n",
    "    {\n",
    "        \"First Name\":\"Ibrahim\",\n",
    "        \"Last Name\":\"Amin\",\n",
    "        \"Age\":31,\n",
    "        \"User ID\":10001\n",
    "    },\n",
    "    {\n",
    "        \"First Name\":\"Hassan\",\n",
    "        \"Last Name\":\"Haroon\",\n",
    "        \"Age\":34,\n",
    "        \"User ID\":10002\n",
    "    },\n",
    "    {\n",
    "        \"First Name\":\"Suleman\",\n",
    "        \"Last Name\":\"Imtiaz\",\n",
    "        \"Age\":32,\n",
    "        \"User ID\":10003\n",
    "    },\n",
    "    {\n",
    "        \"First Name\":\"Yasin\",\n",
    "        \"Last Name\":\"Iqbal\",\n",
    "        \"Age\":36,\n",
    "        \"User ID\":10004\n",
    "    },\n",
    "    {\n",
    "        \"First Name\":\"Farhan\",\n",
    "        \"Last Name\":\"Abdul Rahim\",\n",
    "        \"Age\":33,\n",
    "        \"User ID\":10005\n",
    "    },\n",
    "    {\n",
    "        \"First Name\":\"Osama\",\n",
    "        \"Last Name\":\"Abid\",\n",
    "        \"Age\":39,\n",
    "        \"User ID\":10006\n",
    "    }\n",
    "]"
   ]
  },
  {
   "cell_type": "code",
   "execution_count": 4,
   "metadata": {},
   "outputs": [
    {
     "name": "stdout",
     "output_type": "stream",
     "text": [
      "{'First Name': 'Ibrahim', 'Last Name': 'Amin', 'Age': 31, 'User ID': 10001}\n",
      "{'First Name': 'Hassan', 'Last Name': 'Haroon', 'Age': 34, 'User ID': 10002}\n",
      "{'First Name': 'Suleman', 'Last Name': 'Imtiaz', 'Age': 32, 'User ID': 10003}\n",
      "{'First Name': 'Yasin', 'Last Name': 'Iqbal', 'Age': 36, 'User ID': 10004}\n",
      "{'First Name': 'Farhan', 'Last Name': 'Abdul Rahim', 'Age': 33, 'User ID': 10005}\n",
      "{'First Name': 'Osama', 'Last Name': 'Abid', 'Age': 39, 'User ID': 10006}\n"
     ]
    }
   ],
   "source": [
    "for single_dic in database:\n",
    "    print(single_dic)"
   ]
  },
  {
   "cell_type": "code",
   "execution_count": 6,
   "metadata": {},
   "outputs": [
    {
     "name": "stdout",
     "output_type": "stream",
     "text": [
      "{'First Name': 'Suleman', 'Last Name': 'Imtiaz', 'Age': 32, 'User ID': 10003}\n"
     ]
    }
   ],
   "source": [
    "for single_dic in database:\n",
    "    if single_dic[\"First Name\"] == \"Suleman\":\n",
    "        print(single_dic)"
   ]
  },
  {
   "cell_type": "code",
   "execution_count": 7,
   "metadata": {
    "scrolled": true
   },
   "outputs": [
    {
     "name": "stdout",
     "output_type": "stream",
     "text": [
      "Ibrahim\n",
      "Hassan\n",
      "Suleman\n",
      "Yasin\n",
      "Farhan\n",
      "Osama\n"
     ]
    }
   ],
   "source": [
    "for single_dic in database:\n",
    "    print(single_dic[\"First Name\"]) "
   ]
  },
  {
   "cell_type": "code",
   "execution_count": 15,
   "metadata": {},
   "outputs": [
    {
     "name": "stdout",
     "output_type": "stream",
     "text": [
      "Enter User ID: 10005\n"
     ]
    }
   ],
   "source": [
    "UID = int(input(\"Enter User ID: \"))"
   ]
  },
  {
   "cell_type": "code",
   "execution_count": 16,
   "metadata": {},
   "outputs": [
    {
     "name": "stdout",
     "output_type": "stream",
     "text": [
      "{'First Name': 'Farhan', 'Last Name': 'Abdul Rahim', 'Age': 33, 'User ID': 10005}\n"
     ]
    }
   ],
   "source": [
    "for i in database:\n",
    "    if i[\"User ID\"] == UID:\n",
    "        print(i)"
   ]
  },
  {
   "cell_type": "code",
   "execution_count": 17,
   "metadata": {},
   "outputs": [
    {
     "name": "stdout",
     "output_type": "stream",
     "text": [
      "{'First Name': 'Yasin', 'Last Name': 'Iqbal', 'Age': 36, 'User ID': 10004}\n",
      "{'First Name': 'Osama', 'Last Name': 'Abid', 'Age': 39, 'User ID': 10006}\n"
     ]
    }
   ],
   "source": [
    "for j in database:\n",
    "    if j[\"Age\"] >= 35:\n",
    "        print(j)"
   ]
  },
  {
   "cell_type": "code",
   "execution_count": 18,
   "metadata": {},
   "outputs": [
    {
     "name": "stdout",
     "output_type": "stream",
     "text": [
      "{'First Name': 'Ibrahim', 'Last Name': 'Amin', 'Age': 31, 'User ID': 10001}\n",
      "{'First Name': 'Hassan', 'Last Name': 'Haroon', 'Age': 34, 'User ID': 10002}\n",
      "{'First Name': 'Suleman', 'Last Name': 'Imtiaz', 'Age': 32, 'User ID': 10003}\n",
      "{'First Name': 'Farhan', 'Last Name': 'Abdul Rahim', 'Age': 33, 'User ID': 10005}\n"
     ]
    }
   ],
   "source": [
    "for k in database:\n",
    "    if k[\"Age\"] < 35:\n",
    "        print(k)"
   ]
  },
  {
   "cell_type": "code",
   "execution_count": 21,
   "metadata": {},
   "outputs": [
    {
     "name": "stdout",
     "output_type": "stream",
     "text": [
      "{'First Name': 'Hassan', 'Last Name': 'Haroon', 'Age': 34, 'User ID': 10002}\n",
      "{'First Name': 'Farhan', 'Last Name': 'Abdul Rahim', 'Age': 33, 'User ID': 10005}\n"
     ]
    }
   ],
   "source": [
    "for l in database:\n",
    "    if l[\"Age\"] > 32 and l[\"Age\"] < 36:\n",
    "        print(l)"
   ]
  },
  {
   "cell_type": "code",
   "execution_count": 22,
   "metadata": {},
   "outputs": [
    {
     "name": "stdout",
     "output_type": "stream",
     "text": [
      "Enter Name of Student: Ibrahim\n",
      "{'First Name': 'Ibrahim', 'Last Name': 'Amin', 'Age': 31, 'User ID': 10001}\n"
     ]
    }
   ],
   "source": [
    "Name=input(\"Enter Name of Student: \")\n",
    "for name in database:\n",
    "    if name[\"First Name\"] == Name:\n",
    "        print(name)"
   ]
  },
  {
   "cell_type": "code",
   "execution_count": 23,
   "metadata": {},
   "outputs": [],
   "source": [
    "# Appending Data in List of Dictionaries"
   ]
  },
  {
   "cell_type": "code",
   "execution_count": 24,
   "metadata": {},
   "outputs": [],
   "source": [
    "new_student={\n",
    "    \"First Name\":\"Saad\",\n",
    "    \"Last Name\":\"Hanid\",\n",
    "    \"Age\":36,\n",
    "    \"User ID\":10007\n",
    "}"
   ]
  },
  {
   "cell_type": "code",
   "execution_count": 25,
   "metadata": {},
   "outputs": [],
   "source": [
    "database.append(new_student)"
   ]
  },
  {
   "cell_type": "code",
   "execution_count": 28,
   "metadata": {},
   "outputs": [
    {
     "name": "stdout",
     "output_type": "stream",
     "text": [
      "{'First Name': 'Ibrahim', 'Last Name': 'Amin', 'Age': 31, 'User ID': 10001}\n",
      "{'First Name': 'Hassan', 'Last Name': 'Haroon', 'Age': 34, 'User ID': 10002}\n",
      "{'First Name': 'Suleman', 'Last Name': 'Imtiaz', 'Age': 32, 'User ID': 10003}\n",
      "{'First Name': 'Yasin', 'Last Name': 'Iqbal', 'Age': 36, 'User ID': 10004}\n",
      "{'First Name': 'Farhan', 'Last Name': 'Abdul Rahim', 'Age': 33, 'User ID': 10005}\n",
      "{'First Name': 'Osama', 'Last Name': 'Abid', 'Age': 39, 'User ID': 10006}\n",
      "{'First Name': 'Saad', 'Last Name': 'Hanid', 'Age': 36, 'User ID': 10007}\n"
     ]
    }
   ],
   "source": [
    "for single_dic in database:\n",
    "    print(single_dic)"
   ]
  },
  {
   "cell_type": "markdown",
   "metadata": {},
   "source": [
    "# CLASS TASK"
   ]
  },
  {
   "cell_type": "code",
   "execution_count": 35,
   "metadata": {},
   "outputs": [
    {
     "name": "stdout",
     "output_type": "stream",
     "text": [
      "Please Enter User ID: 1002\n",
      "Please Enter First Name: Ahmed\n",
      "Please Enter Last Name: Ali\n",
      "Please Enter Age: 15\n",
      "Please Enter Class: 10th\n",
      "Please Enter User ID: 1001\n",
      "Please Enter First Name: Suleman\n",
      "Please Enter Last Name: ALi\n",
      "Please Enter Age: 14\n",
      "Please Enter Class: 8th\n",
      "Please Enter User ID: 1003\n",
      "Please Enter First Name: Talha\n",
      "Please Enter Last Name: Altaf\n",
      "Please Enter Age: 13\n",
      "Please Enter Class: 5th\n"
     ]
    }
   ],
   "source": [
    "student_database= [\n",
    "    {\n",
    "        \"User ID\": input(\"Please Enter User ID: \"),\n",
    "        \"First Name\": input(\"Please Enter First Name: \"),\n",
    "        \"Last Name\":input(\"Please Enter Last Name: \"),\n",
    "        \"Age\": input(\"Please Enter Age: \"),\n",
    "        \"Class\": input(\"Please Enter Class: \")\n",
    "    },\n",
    "    {\n",
    "        \"User ID\": input(\"Please Enter User ID: \"),\n",
    "        \"First Name\": input(\"Please Enter First Name: \"),\n",
    "        \"Last Name\":input(\"Please Enter Last Name: \"),\n",
    "        \"Age\": input(\"Please Enter Age: \"),\n",
    "        \"Class\": input(\"Please Enter Class: \")\n",
    "    },\n",
    "    {\n",
    "        \"User ID\": input(\"Please Enter User ID: \"),\n",
    "        \"First Name\": input(\"Please Enter First Name: \"),\n",
    "        \"Last Name\":input(\"Please Enter Last Name: \"),\n",
    "        \"Age\": input(\"Please Enter Age: \"),\n",
    "        \"Class\": input(\"Please Enter Class: \")\n",
    "    }\n",
    "]"
   ]
  },
  {
   "cell_type": "code",
   "execution_count": 38,
   "metadata": {},
   "outputs": [
    {
     "name": "stdout",
     "output_type": "stream",
     "text": [
      "{'User ID': '1002', 'First Name': 'Ahmed', 'Last Name': 'Ali', 'Age': '15', 'Class': '10th'}\n",
      "{'User ID': '1001', 'First Name': 'Suleman', 'Last Name': 'ALi', 'Age': '14', 'Class': '8th'}\n",
      "{'User ID': '1003', 'First Name': 'Talha', 'Last Name': 'Altaf', 'Age': '13', 'Class': '5th'}\n"
     ]
    }
   ],
   "source": [
    "for single_dic in student_database:\n",
    "    print(single_dic)"
   ]
  },
  {
   "cell_type": "code",
   "execution_count": 41,
   "metadata": {},
   "outputs": [
    {
     "name": "stdout",
     "output_type": "stream",
     "text": [
      "Please Enter User ID: 1005\n",
      "Please Enter First Name: Yasin\n",
      "Please Enter Last Name: Imtiaz\n",
      "Please Enter Age: 19\n",
      "Please Enter Class: 11th\n"
     ]
    }
   ],
   "source": [
    "student_database.append(\n",
    "    {\n",
    "    \"User ID\": input(\"Please Enter User ID: \"),\n",
    "    \"First Name\": input(\"Please Enter First Name: \"),\n",
    "    \"Last Name\":input(\"Please Enter Last Name: \"),\n",
    "    \"Age\": input(\"Please Enter Age: \"),\n",
    "    \"Class\": input(\"Please Enter Class: \")\n",
    "    }\n",
    ")"
   ]
  },
  {
   "cell_type": "code",
   "execution_count": 42,
   "metadata": {},
   "outputs": [
    {
     "name": "stdout",
     "output_type": "stream",
     "text": [
      "{'User ID': '1002', 'First Name': 'Ahmed', 'Last Name': 'Ali', 'Age': '15', 'Class': '10th'}\n",
      "{'User ID': '1001', 'First Name': 'Suleman', 'Last Name': 'ALi', 'Age': '14', 'Class': '8th'}\n",
      "{'User ID': '1003', 'First Name': 'Talha', 'Last Name': 'Altaf', 'Age': '13', 'Class': '5th'}\n",
      "{'User ID': '1004', 'First Name': 'Ahmer', 'Last Name': 'Kaludi', 'Age': '20', 'Class': '12th'}\n",
      "{'User ID': '1005', 'First Name': 'Yasin', 'Last Name': 'Imtiaz', 'Age': '19', 'Class': '11th'}\n"
     ]
    }
   ],
   "source": [
    "for single_dic in student_database:\n",
    "    print(single_dic)"
   ]
  },
  {
   "cell_type": "code",
   "execution_count": null,
   "metadata": {},
   "outputs": [],
   "source": []
  }
 ],
 "metadata": {
  "kernelspec": {
   "display_name": "Python 3",
   "language": "python",
   "name": "python3"
  },
  "language_info": {
   "codemirror_mode": {
    "name": "ipython",
    "version": 3
   },
   "file_extension": ".py",
   "mimetype": "text/x-python",
   "name": "python",
   "nbconvert_exporter": "python",
   "pygments_lexer": "ipython3",
   "version": "3.8.5"
  }
 },
 "nbformat": 4,
 "nbformat_minor": 4
}
