{
 "cells": [
  {
   "cell_type": "markdown",
   "metadata": {},
   "source": [
    "# DATA FILES"
   ]
  },
  {
   "cell_type": "code",
   "execution_count": 20,
   "metadata": {},
   "outputs": [],
   "source": [
    "# Write Data"
   ]
  },
  {
   "cell_type": "code",
   "execution_count": 25,
   "metadata": {},
   "outputs": [],
   "source": [
    "with open (\"Practice.txt\", \"w\") as f:\n",
    "    f.write(\"Hello World!\")"
   ]
  },
  {
   "cell_type": "code",
   "execution_count": 24,
   "metadata": {},
   "outputs": [
    {
     "data": {
      "text/plain": [
       "15"
      ]
     },
     "execution_count": 24,
     "metadata": {},
     "output_type": "execute_result"
    }
   ],
   "source": [
    "f = open (\"Practice.txt\", \"w\")\n",
    "f.write(\"Hello World 4 !\")"
   ]
  },
  {
   "cell_type": "code",
   "execution_count": 10,
   "metadata": {},
   "outputs": [],
   "source": [
    "# Appending Data"
   ]
  },
  {
   "cell_type": "code",
   "execution_count": 27,
   "metadata": {},
   "outputs": [],
   "source": [
    "with open (\"Appending.txt\", \"a\") as f:\n",
    "    f.write(\"Hello World! \\n\")\n",
    "    f.write(\"Hello World 2! \\n\")\n",
    "    f.write(\"Hello World 3! \\n\")\n",
    "    f.write(\"Hello World 4! \\n\")"
   ]
  },
  {
   "cell_type": "code",
   "execution_count": 26,
   "metadata": {},
   "outputs": [],
   "source": [
    "# Reading Data"
   ]
  },
  {
   "cell_type": "code",
   "execution_count": 29,
   "metadata": {},
   "outputs": [],
   "source": [
    "with open (\"Appending.txt\", \"r\") as f:\n",
    "    data = f.read()"
   ]
  },
  {
   "cell_type": "code",
   "execution_count": 30,
   "metadata": {},
   "outputs": [
    {
     "data": {
      "text/plain": [
       "'Hello World! \\nHello World 2! \\nHello World 3! \\nHello World! \\nHello World 2! \\nHello World 3! \\nHello World! \\nHello World 2! \\nHello World 3! \\nHello World 4! \\nHello World! \\nHello World 2! \\nHello World 3! \\nHello World 4! \\n'"
      ]
     },
     "execution_count": 30,
     "metadata": {},
     "output_type": "execute_result"
    }
   ],
   "source": [
    "data"
   ]
  },
  {
   "cell_type": "code",
   "execution_count": 36,
   "metadata": {},
   "outputs": [],
   "source": [
    "# Converting Data from String to List"
   ]
  },
  {
   "cell_type": "code",
   "execution_count": 31,
   "metadata": {},
   "outputs": [
    {
     "data": {
      "text/plain": [
       "['Hello World! ',\n",
       " 'Hello World 2! ',\n",
       " 'Hello World 3! ',\n",
       " 'Hello World! ',\n",
       " 'Hello World 2! ',\n",
       " 'Hello World 3! ',\n",
       " 'Hello World! ',\n",
       " 'Hello World 2! ',\n",
       " 'Hello World 3! ',\n",
       " 'Hello World 4! ',\n",
       " 'Hello World! ',\n",
       " 'Hello World 2! ',\n",
       " 'Hello World 3! ',\n",
       " 'Hello World 4! ',\n",
       " '']"
      ]
     },
     "execution_count": 31,
     "metadata": {},
     "output_type": "execute_result"
    }
   ],
   "source": [
    "data.split(\"\\n\")"
   ]
  },
  {
   "cell_type": "code",
   "execution_count": 32,
   "metadata": {},
   "outputs": [
    {
     "data": {
      "text/plain": [
       "['Hello',\n",
       " 'World!',\n",
       " 'Hello',\n",
       " 'World',\n",
       " '2!',\n",
       " 'Hello',\n",
       " 'World',\n",
       " '3!',\n",
       " 'Hello',\n",
       " 'World!',\n",
       " 'Hello',\n",
       " 'World',\n",
       " '2!',\n",
       " 'Hello',\n",
       " 'World',\n",
       " '3!',\n",
       " 'Hello',\n",
       " 'World!',\n",
       " 'Hello',\n",
       " 'World',\n",
       " '2!',\n",
       " 'Hello',\n",
       " 'World',\n",
       " '3!',\n",
       " 'Hello',\n",
       " 'World',\n",
       " '4!',\n",
       " 'Hello',\n",
       " 'World!',\n",
       " 'Hello',\n",
       " 'World',\n",
       " '2!',\n",
       " 'Hello',\n",
       " 'World',\n",
       " '3!',\n",
       " 'Hello',\n",
       " 'World',\n",
       " '4!']"
      ]
     },
     "execution_count": 32,
     "metadata": {},
     "output_type": "execute_result"
    }
   ],
   "source": [
    "data.split()"
   ]
  },
  {
   "cell_type": "code",
   "execution_count": 33,
   "metadata": {},
   "outputs": [
    {
     "data": {
      "text/plain": [
       "str"
      ]
     },
     "execution_count": 33,
     "metadata": {},
     "output_type": "execute_result"
    }
   ],
   "source": [
    "type(data)"
   ]
  },
  {
   "cell_type": "code",
   "execution_count": 37,
   "metadata": {},
   "outputs": [],
   "source": [
    "#Saving list into Variable"
   ]
  },
  {
   "cell_type": "code",
   "execution_count": 34,
   "metadata": {},
   "outputs": [],
   "source": [
    "data = data.split(\"\\n\")"
   ]
  },
  {
   "cell_type": "code",
   "execution_count": 35,
   "metadata": {},
   "outputs": [
    {
     "data": {
      "text/plain": [
       "list"
      ]
     },
     "execution_count": 35,
     "metadata": {},
     "output_type": "execute_result"
    }
   ],
   "source": [
    "type(data)"
   ]
  },
  {
   "cell_type": "code",
   "execution_count": 40,
   "metadata": {},
   "outputs": [],
   "source": [
    "with open(\"greet.txt\", \"w\") as f:\n",
    "    f.write(\"Hello World!\")"
   ]
  },
  {
   "cell_type": "code",
   "execution_count": 41,
   "metadata": {},
   "outputs": [],
   "source": [
    "with open(\"greet.txt\", \"a\") as f:\n",
    "    f.write(\"\\nHave a nice day!\")"
   ]
  },
  {
   "cell_type": "code",
   "execution_count": 48,
   "metadata": {},
   "outputs": [
    {
     "name": "stdout",
     "output_type": "stream",
     "text": [
      "Hello World!\n",
      "Have a nice day!\n",
      "My Name is Ibrahim Amin.\n",
      "I am a Chartered Accountant.\n"
     ]
    }
   ],
   "source": [
    "with open(\"greet.txt\", \"r\") as f:\n",
    "    message = f.read()\n",
    "    print(message)"
   ]
  },
  {
   "cell_type": "markdown",
   "metadata": {},
   "source": [
    "# Assignment"
   ]
  },
  {
   "cell_type": "code",
   "execution_count": 60,
   "metadata": {},
   "outputs": [],
   "source": [
    "with open(\"greet.txt\", \"r\") as f:\n",
    "    message = f.read()"
   ]
  },
  {
   "cell_type": "code",
   "execution_count": 66,
   "metadata": {},
   "outputs": [
    {
     "name": "stdout",
     "output_type": "stream",
     "text": [
      "Hello World!\n",
      "Have a nice day!\n",
      "My Name is Ibrahim Amin.\n",
      "I am a Chartered Accountant.\n"
     ]
    }
   ],
   "source": [
    "print(message)"
   ]
  },
  {
   "cell_type": "code",
   "execution_count": 62,
   "metadata": {},
   "outputs": [],
   "source": [
    "data = message.split()"
   ]
  },
  {
   "cell_type": "code",
   "execution_count": 65,
   "metadata": {},
   "outputs": [
    {
     "data": {
      "text/plain": [
       "14"
      ]
     },
     "execution_count": 65,
     "metadata": {},
     "output_type": "execute_result"
    }
   ],
   "source": [
    "data.index(\"Chartered\")"
   ]
  },
  {
   "cell_type": "code",
   "execution_count": 64,
   "metadata": {},
   "outputs": [
    {
     "data": {
      "text/plain": [
       "['Hello',\n",
       " 'World!',\n",
       " 'Have',\n",
       " 'a',\n",
       " 'nice',\n",
       " 'day!',\n",
       " 'My',\n",
       " 'Name',\n",
       " 'is',\n",
       " 'Ibrahim',\n",
       " 'Amin.',\n",
       " 'I',\n",
       " 'am',\n",
       " 'a',\n",
       " 'Chartered',\n",
       " 'Accountant.']"
      ]
     },
     "execution_count": 64,
     "metadata": {},
     "output_type": "execute_result"
    }
   ],
   "source": [
    "message.split()"
   ]
  },
  {
   "cell_type": "code",
   "execution_count": 68,
   "metadata": {},
   "outputs": [
    {
     "data": {
      "text/plain": [
       "16"
      ]
     },
     "execution_count": 68,
     "metadata": {},
     "output_type": "execute_result"
    }
   ],
   "source": [
    "len(data)"
   ]
  },
  {
   "cell_type": "code",
   "execution_count": 1,
   "metadata": {},
   "outputs": [
    {
     "name": "stdout",
     "output_type": "stream",
     "text": [
      "['Hello', 'World!', 'Have', 'a', 'nice', 'day!', 'My', 'Name', 'is', 'Ibrahim', 'Amin.', 'I', 'am', 'a', 'Chartered', 'Accountant.']\n",
      "Hello World! Have a nice day! My Name is Ibrahim Amin. I am a Accountant.\n"
     ]
    }
   ],
   "source": [
    "with open(\"greet.txt\", \"r\") as f:\n",
    "    data = f.read()\n",
    "    data = data.split()\n",
    "    print(data)\n",
    "    index = data.index('Chartered')\n",
    "    del data[index]\n",
    "    listToStr = ' '.join(map(str, data))\n",
    "    print(listToStr)\n",
    "    \n",
    "    \n",
    "    \n",
    "    with open(\"greet.txt\", \"w\") as f:\n",
    "        f.write(listToStr)"
   ]
  },
  {
   "cell_type": "code",
   "execution_count": 3,
   "metadata": {},
   "outputs": [
    {
     "name": "stdout",
     "output_type": "stream",
     "text": [
      "Hello Pakistan! Have a nice day! My Name is Ibrahim Amin. I am a Accountant.\n"
     ]
    }
   ],
   "source": [
    "with open(\"greet.txt\", \"r\") as f:\n",
    "    data = f.read()\n",
    "    data = data.replace(\"World\", \"Pakistan\")\n",
    "    \n",
    "    \n",
    "    with open(\"greet.txt\", \"w\") as f:\n",
    "        f.write(data)\n",
    "        print(data)"
   ]
  },
  {
   "cell_type": "code",
   "execution_count": null,
   "metadata": {},
   "outputs": [],
   "source": []
  }
 ],
 "metadata": {
  "kernelspec": {
   "display_name": "Python 3",
   "language": "python",
   "name": "python3"
  },
  "language_info": {
   "codemirror_mode": {
    "name": "ipython",
    "version": 3
   },
   "file_extension": ".py",
   "mimetype": "text/x-python",
   "name": "python",
   "nbconvert_exporter": "python",
   "pygments_lexer": "ipython3",
   "version": "3.8.5"
  }
 },
 "nbformat": 4,
 "nbformat_minor": 4
}
