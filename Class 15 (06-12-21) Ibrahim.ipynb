{
 "cells": [
  {
   "cell_type": "markdown",
   "metadata": {},
   "source": [
    "# CSV FILES"
   ]
  },
  {
   "cell_type": "code",
   "execution_count": 2,
   "metadata": {},
   "outputs": [],
   "source": [
    "import csv"
   ]
  },
  {
   "cell_type": "markdown",
   "metadata": {},
   "source": [
    "# CSV READING"
   ]
  },
  {
   "cell_type": "code",
   "execution_count": 3,
   "metadata": {},
   "outputs": [
    {
     "name": "stdout",
     "output_type": "stream",
     "text": [
      "['Year', 'Event', 'Winner']\n",
      "['1995', 'Best-Kept Lawn', 'None']\n",
      "['1999', 'Gobstones', 'Welch National']\n",
      "['2006', 'World Cup', 'Burkina Faso']\n"
     ]
    }
   ],
   "source": [
    "with open (\"Competition.csv\") as f:\n",
    "    content = csv.reader(f)\n",
    "    for i in content:\n",
    "        print(i)"
   ]
  },
  {
   "cell_type": "code",
   "execution_count": 4,
   "metadata": {},
   "outputs": [
    {
     "data": {
      "text/plain": [
       "<_csv.reader at 0x2208fae1c40>"
      ]
     },
     "execution_count": 4,
     "metadata": {},
     "output_type": "execute_result"
    }
   ],
   "source": [
    "content"
   ]
  },
  {
   "cell_type": "code",
   "execution_count": 9,
   "metadata": {},
   "outputs": [],
   "source": [
    "with open (\"Competition.csv\") as f:\n",
    "    content = f.readable()"
   ]
  },
  {
   "cell_type": "code",
   "execution_count": 10,
   "metadata": {},
   "outputs": [
    {
     "data": {
      "text/plain": [
       "True"
      ]
     },
     "execution_count": 10,
     "metadata": {},
     "output_type": "execute_result"
    }
   ],
   "source": [
    "content # This is showing that the file f is readable or not"
   ]
  },
  {
   "cell_type": "code",
   "execution_count": 11,
   "metadata": {},
   "outputs": [],
   "source": [
    "contents = []\n",
    "with open (\"Competition.csv\") as f:\n",
    "    content = csv.reader(f)\n",
    "    for i in content:\n",
    "        contents.append(i)"
   ]
  },
  {
   "cell_type": "code",
   "execution_count": 12,
   "metadata": {},
   "outputs": [
    {
     "data": {
      "text/plain": [
       "[['Year', 'Event', 'Winner'],\n",
       " ['1995', 'Best-Kept Lawn', 'None'],\n",
       " ['1999', 'Gobstones', 'Welch National'],\n",
       " ['2006', 'World Cup', 'Burkina Faso']]"
      ]
     },
     "execution_count": 12,
     "metadata": {},
     "output_type": "execute_result"
    }
   ],
   "source": [
    "contents"
   ]
  },
  {
   "cell_type": "code",
   "execution_count": 13,
   "metadata": {},
   "outputs": [],
   "source": [
    "contents = []\n",
    "with open (\"Competition.csv\") as f:\n",
    "    content = csv.reader(f)\n",
    "    for i in content:\n",
    "        for j in i:\n",
    "            contents.append(j)"
   ]
  },
  {
   "cell_type": "code",
   "execution_count": 14,
   "metadata": {
    "scrolled": true
   },
   "outputs": [
    {
     "data": {
      "text/plain": [
       "['Year',\n",
       " 'Event',\n",
       " 'Winner',\n",
       " '1995',\n",
       " 'Best-Kept Lawn',\n",
       " 'None',\n",
       " '1999',\n",
       " 'Gobstones',\n",
       " 'Welch National',\n",
       " '2006',\n",
       " 'World Cup',\n",
       " 'Burkina Faso']"
      ]
     },
     "execution_count": 14,
     "metadata": {},
     "output_type": "execute_result"
    }
   ],
   "source": [
    "contents"
   ]
  },
  {
   "cell_type": "markdown",
   "metadata": {},
   "source": [
    "# CSV WRITING"
   ]
  },
  {
   "cell_type": "code",
   "execution_count": 15,
   "metadata": {},
   "outputs": [],
   "source": [
    "with open (\"CSV_Practice.csv\", \"w\", newline=\"\") as f:\n",
    "    data_handler = csv.writer(f, delimiter=\",\")\n",
    "    data_handler.writerow(['Year', 'Event', 'Winner'])"
   ]
  },
  {
   "cell_type": "markdown",
   "metadata": {},
   "source": [
    "# CSV APPENDING"
   ]
  },
  {
   "cell_type": "code",
   "execution_count": 16,
   "metadata": {},
   "outputs": [],
   "source": [
    "with open (\"CSV_Practice.csv\", \"a\", newline=\"\") as f:\n",
    "    data_handler = csv.writer(f, delimiter=\",\")\n",
    "    data_handler.writerow(['1995', 'Best-Kept Lawn', 'None'])"
   ]
  },
  {
   "cell_type": "code",
   "execution_count": 17,
   "metadata": {},
   "outputs": [],
   "source": [
    "with open (\"CSV_Practice.csv\", \"a\", newline=\"\") as f:\n",
    "    data_handler = csv.writer(f, delimiter=\",\")\n",
    "    data_handler.writerow([\"2006\", \"World Cup\",\"Burkina Faso\"])\n",
    "    data_handler.writerow([\"2011\", \"Butter Cup\",\"France\"])\n",
    "    data_handler.writerow([\"2012\", \"Coffee Cup\",\"Brazil\"])"
   ]
  },
  {
   "cell_type": "markdown",
   "metadata": {},
   "source": [
    "# JSON"
   ]
  },
  {
   "cell_type": "code",
   "execution_count": 18,
   "metadata": {},
   "outputs": [],
   "source": [
    "import json"
   ]
  },
  {
   "cell_type": "markdown",
   "metadata": {},
   "source": [
    "# JSON WRITING"
   ]
  },
  {
   "cell_type": "code",
   "execution_count": 19,
   "metadata": {},
   "outputs": [],
   "source": [
    "alphabet_letters = [\"a\", \"b\", \"c\"]"
   ]
  },
  {
   "cell_type": "code",
   "execution_count": 20,
   "metadata": {},
   "outputs": [],
   "source": [
    "with open (\"alphabets_list.json\", \"w\") as f:\n",
    "    json.dump(alphabet_letters, f)"
   ]
  },
  {
   "cell_type": "code",
   "execution_count": 21,
   "metadata": {},
   "outputs": [],
   "source": [
    "customer_29876 = {\n",
    "    \"First name\": \"David\",\n",
    "    \"Last name\": \"Elliott\",\n",
    "    \"Address\": \"4803 Wellesley St.\",\n",
    "}"
   ]
  },
  {
   "cell_type": "code",
   "execution_count": 28,
   "metadata": {},
   "outputs": [],
   "source": [
    "with open (\"alphabets_list.json\", \"w\") as f:\n",
    "    json.dump(customer_29876, f)"
   ]
  },
  {
   "cell_type": "markdown",
   "metadata": {},
   "source": [
    "# JSON APPEND"
   ]
  },
  {
   "cell_type": "code",
   "execution_count": 25,
   "metadata": {},
   "outputs": [],
   "source": [
    "customer_29877 = {\n",
    "    \"First name\": \"Willey\",\n",
    "    \"Last name\": \"Wonka\",\n",
    "    \"Address\": \"1254 Wellesley St.\",\n",
    "}"
   ]
  },
  {
   "cell_type": "code",
   "execution_count": 26,
   "metadata": {},
   "outputs": [],
   "source": [
    "with open (\"alphabets_list.json\", \"a\") as f:\n",
    "    json.dump(customer_29877, f)"
   ]
  },
  {
   "cell_type": "code",
   "execution_count": 29,
   "metadata": {},
   "outputs": [],
   "source": [
    "with open (\"alphabets_list.json\") as f:\n",
    "    customer= json.load(f)"
   ]
  },
  {
   "cell_type": "code",
   "execution_count": 30,
   "metadata": {},
   "outputs": [
    {
     "data": {
      "text/plain": [
       "{'First name': 'David',\n",
       " 'Last name': 'Elliott',\n",
       " 'Address': '4803 Wellesley St.'}"
      ]
     },
     "execution_count": 30,
     "metadata": {},
     "output_type": "execute_result"
    }
   ],
   "source": [
    "customer"
   ]
  },
  {
   "cell_type": "markdown",
   "metadata": {},
   "source": [
    "# ERROR HANDLING"
   ]
  },
  {
   "cell_type": "code",
   "execution_count": 31,
   "metadata": {},
   "outputs": [
    {
     "name": "stdout",
     "output_type": "stream",
     "text": [
      "What text file to open? name.txt\n"
     ]
    },
    {
     "ename": "FileNotFoundError",
     "evalue": "[Errno 2] No such file or directory: 'name.txt'",
     "output_type": "error",
     "traceback": [
      "\u001b[1;31m---------------------------------------------------------------------------\u001b[0m",
      "\u001b[1;31mFileNotFoundError\u001b[0m                         Traceback (most recent call last)",
      "\u001b[1;32m<ipython-input-31-fe911698f2db>\u001b[0m in \u001b[0;36m<module>\u001b[1;34m\u001b[0m\n\u001b[0;32m      1\u001b[0m \u001b[0mfilename\u001b[0m \u001b[1;33m=\u001b[0m \u001b[0minput\u001b[0m\u001b[1;33m(\u001b[0m\u001b[1;34m\"What text file to open? \"\u001b[0m\u001b[1;33m)\u001b[0m\u001b[1;33m\u001b[0m\u001b[1;33m\u001b[0m\u001b[0m\n\u001b[1;32m----> 2\u001b[1;33m \u001b[1;32mwith\u001b[0m \u001b[0mopen\u001b[0m\u001b[1;33m(\u001b[0m\u001b[0mfilename\u001b[0m\u001b[1;33m)\u001b[0m \u001b[1;32mas\u001b[0m \u001b[0mf\u001b[0m\u001b[1;33m:\u001b[0m\u001b[1;33m\u001b[0m\u001b[1;33m\u001b[0m\u001b[0m\n\u001b[0m\u001b[0;32m      3\u001b[0m     \u001b[0mprint\u001b[0m\u001b[1;33m(\u001b[0m\u001b[0mf\u001b[0m\u001b[1;33m.\u001b[0m\u001b[0mread\u001b[0m\u001b[1;33m(\u001b[0m\u001b[1;33m)\u001b[0m\u001b[1;33m)\u001b[0m\u001b[1;33m\u001b[0m\u001b[1;33m\u001b[0m\u001b[0m\n",
      "\u001b[1;31mFileNotFoundError\u001b[0m: [Errno 2] No such file or directory: 'name.txt'"
     ]
    }
   ],
   "source": [
    "filename = input(\"What text file to open? \")\n",
    "with open(filename) as f:\n",
    "    print(f.read())"
   ]
  },
  {
   "cell_type": "code",
   "execution_count": 35,
   "metadata": {},
   "outputs": [
    {
     "name": "stdout",
     "output_type": "stream",
     "text": [
      "What text file to open? name.csv\n",
      "File is not available\n"
     ]
    }
   ],
   "source": [
    "try:\n",
    "    filename = input(\"What text file to open? \")\n",
    "    with open(filename) as f:\n",
    "        print(f.read())\n",
    "        \n",
    "except FileNotFoundError:\n",
    "    print(\"File is not available\")"
   ]
  },
  {
   "cell_type": "code",
   "execution_count": 39,
   "metadata": {},
   "outputs": [
    {
     "name": "stdout",
     "output_type": "stream",
     "text": [
      "What text file to open? ACB.txt\n",
      "Sorry, ACB.txt not available\n"
     ]
    }
   ],
   "source": [
    "try:\n",
    "    filename = input(\"What text file to open? \")\n",
    "    with open(filename) as f:\n",
    "        print(f.read())\n",
    "        \n",
    "except:\n",
    "    print(\"Sorry, \"+filename+\" not available\")"
   ]
  },
  {
   "cell_type": "markdown",
   "metadata": {},
   "source": [
    "# ERROR HANDLING - WHILE LOOP"
   ]
  },
  {
   "cell_type": "code",
   "execution_count": 40,
   "metadata": {},
   "outputs": [
    {
     "name": "stdout",
     "output_type": "stream",
     "text": [
      "What text file to open? abc.txt\n",
      "Sorry, abc.txt not available\n",
      "What text file to open? name.csv\n",
      "Sorry, name.csv not available\n",
      "What text file to open? task.txt\n",
      "GEORGE MCINTOSH\n",
      "JOHN\tARCHER\n",
      "MARKEETA\tKLINEFELTER\n",
      "JUDITH\tBEAL\n",
      "ROBERTO\tREYES\n",
      "JOANNE\tKELDERMAN\n",
      "FLEETA\tARTHUR\n",
      "SHARON\tJACOBS\n",
      "LELA\tFARMER\n",
      "CATHERINE\tEVANS\n",
      "COURTNEY\tCAIN\n",
      "MARCIA\tSEIFRIG\n",
      "SARAH\tMORRIS\n",
      "MARY\tAMOS\n",
      "JERRY\tCOURTS\n",
      "REVEL\tMASSIE\n",
      "GLORIA\tWISEMAN\n",
      "EDNA\tMCFALL\n",
      "DOREEN\tHARMON\n",
      "JAMES\tHOWARD\n",
      "DAVID\tBOOE\n",
      "SUSAN\tPROUGH\n",
      "STEVE\tMILLER\n",
      "VICTORIANO\tRAMIREZ\n",
      "ANDREW\tCOSENTINO\n",
      "BRENDA\tSALLEE\n",
      "SYLVIA\tSCROGGINS\n",
      "JO\tDOYLE\n",
      "VICKY\tMATTHIAS\n",
      "CRAIG\tSAPONKA\n",
      "ROBERT\tJERINA\n",
      "MELISSA\tSTUTSMAN\n",
      "STEVEN\tKROUSE\n",
      "MIKE\tFRAZEE\n",
      "JULIAN\tCHASTAIN\n",
      "MARVIN\tVAN\n",
      "VICKI\tBELL\n",
      "JANE\tLENTINE\n",
      "APRIL\tSCHWARTZ\n",
      "CHERYL\tWASHINGTON\n",
      "JOHNNIE\tSTANSON\n",
      "LINDA\tDONNELLY\n",
      "CLARA\tHOLMES\n",
      "CAROLYN\tKETCHEM\n",
      "POLLY\tSHULL\n",
      "THERESA\tHANDSHOE\n",
      "CONSTANCE\tKRESS\n",
      "NORA\tCASSIDY\n",
      "ANN\tHARGETT\n",
      "WILLIAM\tTHOMASON\n",
      "LORI\tHELTON\n",
      "ALBERTA\tBEAVER\n",
      "K\tROGERS\n",
      "DELORES\tRAGENS\n",
      "JEANETTE\tKACZMAREK\n",
      "BARBARA\tNAVE\n",
      "JON\tCROWE\n",
      "DAPHNE\tROSS\n",
      "LYNN\tHAYES\n",
      "CATHY\tALLEN\n",
      "ED\tNEWTON\n",
      "KIM\tCASE\n",
      "PATRICIA\tBUNNER\n",
      "CHRISTIE\tMCCLENDON\n",
      "JESSE\tALEXANDER\n",
      "DANIEL\tSEXTON\n",
      "DOROTHY\tBLACKWELL\n",
      "WILLIE\tBATTEN\n",
      "SONNA\tBALL\n",
      "RENOVA\tSCOTT\n",
      "ROSETTA\tKENAR\n",
      "TERESA\tREADY\n",
      "BONNIE\tGREEN\n",
      "CHARLES\tWILSON\n",
      "BETTY\tNELSON\n",
      "WANDA\tWILLIAMS\n",
      "RICHARD\tPLOUGH\n",
      "JOSEPH\tCLOWER\n",
      "STELLA\tCAGLE\n",
      "SANDRA\tHOFFMAN\n",
      "MARTHA\tPREBLE\n",
      "DENNIS\tPAPENLEUR\n",
      "N\tTHOMPSON\n",
      "MICHAEL\tKUHN\n",
      "JANNIE\tBARNES\n",
      "GREGORY\tCRONKHITE\n",
      "DIANE\tHARRIS\n",
      "KATHY\tSMITH\n",
      "PAUL\tCANTWELL\n",
      "LARRY\tHUFF\n",
      "THOMAS\tRAGOZZINO\n",
      "MARLENE\tANTHONY\n",
      "LUANNE\tMADISON\n",
      "CURTIS\tDURANCZYK\n",
      "DEANNA\tLEGLER\n",
      "DONNA\tBOYD\n",
      "KENNETH\tFEHR\n",
      "ROGER\tPERKINS\n",
      "HENRY\tKOSMOSKI\n"
     ]
    }
   ],
   "source": [
    "while True:\n",
    "    try:\n",
    "        filename = input(\"What text file to open? \")\n",
    "        with open(filename) as f:\n",
    "            print(f.read())\n",
    "            break\n",
    "            \n",
    "    except:\n",
    "        print(\"Sorry, \"+filename+\" not available\")"
   ]
  },
  {
   "cell_type": "code",
   "execution_count": 42,
   "metadata": {},
   "outputs": [],
   "source": [
    "#Assignment\n",
    "#https://docs.google.com/spreadsheets/d/1Pas14ICl5sjVQhH-VJz-KvtDNnorccSxqVtQ7uriiLE/edit?usp=sharing\n",
    "#Read file and show data based on Price input"
   ]
  },
  {
   "cell_type": "code",
   "execution_count": null,
   "metadata": {},
   "outputs": [],
   "source": []
  },
  {
   "cell_type": "code",
   "execution_count": null,
   "metadata": {},
   "outputs": [],
   "source": []
  },
  {
   "cell_type": "code",
   "execution_count": null,
   "metadata": {},
   "outputs": [],
   "source": []
  },
  {
   "cell_type": "code",
   "execution_count": null,
   "metadata": {},
   "outputs": [],
   "source": []
  }
 ],
 "metadata": {
  "kernelspec": {
   "display_name": "Python 3",
   "language": "python",
   "name": "python3"
  },
  "language_info": {
   "codemirror_mode": {
    "name": "ipython",
    "version": 3
   },
   "file_extension": ".py",
   "mimetype": "text/x-python",
   "name": "python",
   "nbconvert_exporter": "python",
   "pygments_lexer": "ipython3",
   "version": "3.8.5"
  }
 },
 "nbformat": 4,
 "nbformat_minor": 4
}
