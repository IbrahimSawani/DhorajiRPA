{
 "cells": [
  {
   "cell_type": "code",
   "execution_count": 32,
   "id": "2e7c5a63",
   "metadata": {},
   "outputs": [
    {
     "name": "stdout",
     "output_type": "stream",
     "text": [
      "Platinum {'Package': '12 Months', 'Discount': '50%'}\n",
      "Gold {'Package': '8 Months', 'Discount': '30%'}\n",
      "Silver {'Package': '4 Months', 'Discount': '10%'}\n",
      "Bronze {'Package': '2 Months or less', 'Discount': 'None'}\n"
     ]
    }
   ],
   "source": [
    "Discount_Packages = {\n",
    "    \"Platinum\": {\n",
    "        \"Package\": \"12 Months\",\n",
    "        \"Discount\" : \"50%\"\n",
    "    },\n",
    "    \"Gold\": {\n",
    "        \"Package\": \"8 Months\",\n",
    "        \"Discount\": \"30%\"\n",
    "    },\n",
    "    \"Silver\": {\n",
    "        \"Package\": \"4 Months\",\n",
    "        \"Discount\": \"10%\"\n",
    "    },\n",
    "    \"Bronze\": {\n",
    "        \"Package\": \"2 Months or less\",\n",
    "        \"Discount\": \"None\"\n",
    "    },\n",
    "}\n",
    "\n",
    "for key, value in Discount_Packages.items():\n",
    "        print(key, value)"
   ]
  },
  {
   "cell_type": "code",
   "execution_count": 33,
   "id": "dc17abf3",
   "metadata": {},
   "outputs": [],
   "source": [
    "total_profit=[]"
   ]
  },
  {
   "cell_type": "code",
   "execution_count": 46,
   "id": "65e6c829",
   "metadata": {},
   "outputs": [
    {
     "name": "stdout",
     "output_type": "stream",
     "text": [
      "Enter your selected package: silver\n",
      "Monthly Fees is 12,000\n",
      "Amount payable before discount is: 48000\n",
      "Your discount is: 4800.0\n",
      "Amount payable after discount is: 43200.0\n"
     ]
    }
   ],
   "source": [
    "def package():\n",
    "    global Net_Income\n",
    "    Monthly_Fees = 12000\n",
    "    Package = input(\"Enter your selected package: \")\n",
    "    if Package == \"Platinum\" or Package == \"platinum\":\n",
    "        Gross_Income = Monthly_Fees*12\n",
    "        Discount = Gross_Income*0.5\n",
    "        Net_Income = Gross_Income - Discount\n",
    "        print(\"Monthly Fees is 12,000\")\n",
    "        print(\"Amount payable before discount is: \" + str(Gross_Income))\n",
    "        print(\"Your discount is: \" + str(Discount))\n",
    "        print(\"Amount payable after discount is: \" + str(Net_Income))\n",
    "    elif Package == \"Gold\" or Package == \"gold\":\n",
    "        Gross_Income = Monthly_Fees*8\n",
    "        Discount = Gross_Income*0.3\n",
    "        Net_Income = Gross_Income - Discount\n",
    "        print(\"Monthly Fees is 12,000\")\n",
    "        print(\"Amount payable before discount is: \" + str(Gross_Income))\n",
    "        print(\"Your discount is: \" + str(Discount))\n",
    "        print(\"Amount payable after discount is: \" + str(Net_Income))\n",
    "    elif Package == \"Silver\" or Package == \"silver\":\n",
    "        Gross_Income = Monthly_Fees*4\n",
    "        Discount = Gross_Income*0.1\n",
    "        Net_Income = Gross_Income - Discount\n",
    "        print(\"Monthly Fees is 12,000\")\n",
    "        print(\"Amount payable before discount is: \" + str(Gross_Income))\n",
    "        print(\"Your discount is: \" + str(Discount))\n",
    "        print(\"Amount payable after discount is: \" + str(Net_Income))\n",
    "    elif Package == \"Bronze\" or Package == \"bronze\":\n",
    "        Gross_Income = Monthly_Fees*2\n",
    "        Discount = Gross_Income*0\n",
    "        Net_Income = Gross_Income - Discount\n",
    "        print(\"Monthly Fees is 12,000\")\n",
    "        print(\"Amount payable before discount is: \" + str(Gross_Income))\n",
    "        print(\"Your discount is: \" + str(Discount))\n",
    "        print(\"Amount payable after discount is: \" + str(Net_Income))\n",
    "    else:\n",
    "        print(\"Invalid Package\")\n",
    "        \n",
    "package()\n",
    "\n",
    "total_profit.append(Net_Income)"
   ]
  },
  {
   "cell_type": "code",
   "execution_count": 47,
   "id": "fb19b3fa",
   "metadata": {},
   "outputs": [
    {
     "data": {
      "text/plain": [
       "[72000.0, 67200.0, 43200.0, 24000, 43200.0]"
      ]
     },
     "execution_count": 47,
     "metadata": {},
     "output_type": "execute_result"
    }
   ],
   "source": [
    "total_profit"
   ]
  },
  {
   "cell_type": "code",
   "execution_count": 48,
   "id": "d0d54942",
   "metadata": {},
   "outputs": [
    {
     "name": "stdout",
     "output_type": "stream",
     "text": [
      "Your Total Income is: 249600.0\n"
     ]
    }
   ],
   "source": [
    "print(\"Your Total Income is: \" + str(sum(total_profit)))"
   ]
  },
  {
   "cell_type": "code",
   "execution_count": null,
   "id": "da900978",
   "metadata": {},
   "outputs": [],
   "source": []
  }
 ],
 "metadata": {
  "kernelspec": {
   "display_name": "Python 3",
   "language": "python",
   "name": "python3"
  },
  "language_info": {
   "codemirror_mode": {
    "name": "ipython",
    "version": 3
   },
   "file_extension": ".py",
   "mimetype": "text/x-python",
   "name": "python",
   "nbconvert_exporter": "python",
   "pygments_lexer": "ipython3",
   "version": "3.8.8"
  }
 },
 "nbformat": 4,
 "nbformat_minor": 5
}
