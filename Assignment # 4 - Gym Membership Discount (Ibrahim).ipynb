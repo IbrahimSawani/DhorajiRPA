{
 "cells": [
  {
   "cell_type": "code",
   "execution_count": 5,
   "metadata": {},
   "outputs": [],
   "source": [
    "Discount_Packages = {\n",
    "    \"Platinum\": {\n",
    "        \"Package\": \"12 Months\",\n",
    "        \"Discount\" : \"50%\"\n",
    "    },\n",
    "    \"Gold\": {\n",
    "        \"Package\": \"8 Months\",\n",
    "        \"Discount\": \"30%\"\n",
    "    },\n",
    "    \"Silver\": {\n",
    "        \"Package\": \"4 Months\",\n",
    "        \"Discount\": \"10%\"\n",
    "    },\n",
    "    \"Bronze\": {\n",
    "        \"Package\": \"2 Months\",\n",
    "        \"Discount\": \"None\"\n",
    "    },\n",
    "}"
   ]
  },
  {
   "cell_type": "code",
   "execution_count": 6,
   "metadata": {},
   "outputs": [
    {
     "data": {
      "text/plain": [
       "{'Platinum': {'Package': '12 Months', 'Discount': '50%'},\n",
       " 'Gold': {'Package': '8 Months', 'Discount': '30%'},\n",
       " 'Silver': {'Package': '4 Months', 'Discount': '10%'},\n",
       " 'Bronze': {'Package': '2 Months', 'Discount': 'None'}}"
      ]
     },
     "execution_count": 6,
     "metadata": {},
     "output_type": "execute_result"
    }
   ],
   "source": [
    "Discount_Packages"
   ]
  },
  {
   "cell_type": "code",
   "execution_count": 10,
   "metadata": {},
   "outputs": [],
   "source": [
    "def package():\n",
    "    Monthly_Fees = 12000\n",
    "    Package = input(\"Enter your selected package: \")\n",
    "    if Package == \"Platinum\":\n",
    "        print(\"Monthly Fees is 12,000\")\n",
    "        print(\"Amount payable before discount is: \" + str(Monthly_Fees*12))\n",
    "        print(\"Your discount is: \" + str(Monthly_Fees*12*0.5))\n",
    "        print(\"Amount payable after discount is: \" + str(Monthly_Fees*12*0.5))\n",
    "    elif Package == \"Gold\":\n",
    "        print(\"Monthly Fees is 12,000\")\n",
    "        print(\"Amount payable before discount is: \" + str(Monthly_Fees*8))\n",
    "        print(\"Your discount is: \" + str(Monthly_Fees*8*0.3))\n",
    "        print(\"Amount payable after discount is: \" + str(Monthly_Fees*8*0.7))\n",
    "    elif Package == \"Silver\":\n",
    "        print(\"Monthly Fees is 12,000\")\n",
    "        print(\"Amount payable before discount is: \" + str(Monthly_Fees*4))\n",
    "        print(\"Your discount is: \" + str(Monthly_Fees*4*0.1))\n",
    "        print(\"Amount payable after discount is: \" + str(Monthly_Fees*8*0.9))\n",
    "    elif Package == \"Bronze\":\n",
    "        print(\"Monthly Fees is 12,000\")\n",
    "        print(\"Amount payable before discount is: \" + str(Monthly_Fees*2))\n",
    "        print(\"Your discount is: \" + str(Monthly_Fees*4*0))\n",
    "        print(\"Amount payable after discount is: \" + str(Monthly_Fees*8*1))\n",
    "    else:\n",
    "        print(\"Invalid Package\")"
   ]
  },
  {
   "cell_type": "code",
   "execution_count": 11,
   "metadata": {},
   "outputs": [
    {
     "name": "stdout",
     "output_type": "stream",
     "text": [
      "Enter your selected package: Gold\n",
      "Monthly Fees is 12,000\n",
      "Amount payable before discount is: 96000\n",
      "Your discount is: 28800.0\n",
      "Amount payable after discount is: 67200.0\n"
     ]
    }
   ],
   "source": [
    "package()"
   ]
  },
  {
   "cell_type": "code",
   "execution_count": null,
   "metadata": {},
   "outputs": [],
   "source": []
  },
  {
   "cell_type": "code",
   "execution_count": null,
   "metadata": {},
   "outputs": [],
   "source": []
  }
 ],
 "metadata": {
  "kernelspec": {
   "display_name": "Python 3",
   "language": "python",
   "name": "python3"
  },
  "language_info": {
   "codemirror_mode": {
    "name": "ipython",
    "version": 3
   },
   "file_extension": ".py",
   "mimetype": "text/x-python",
   "name": "python",
   "nbconvert_exporter": "python",
   "pygments_lexer": "ipython3",
   "version": "3.8.5"
  }
 },
 "nbformat": 4,
 "nbformat_minor": 4
}
