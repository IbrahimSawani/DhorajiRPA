{
 "cells": [
  {
   "cell_type": "code",
   "execution_count": 13,
   "metadata": {},
   "outputs": [],
   "source": [
    "def calc():\n",
    "    first_number= int(input(\"Enter First Number :\"))\n",
    "    second_number= int(input(\"Enter Second Number :\"))\n",
    "    operation= (input(\"Enter Operation :\"))\n",
    "    if operation == \"+\":\n",
    "        print(first_number+second_number)\n",
    "    elif operation == \"-\":\n",
    "        print(first_number-second_number)\n",
    "    elif operation == \"*\":\n",
    "        print(first_number*second_number)\n",
    "    elif operation == \"/\":\n",
    "        print(first_number/second_number)\n",
    "    else:\n",
    "        print(\"Unindentified Operation\")"
   ]
  },
  {
   "cell_type": "code",
   "execution_count": 14,
   "metadata": {},
   "outputs": [
    {
     "name": "stdout",
     "output_type": "stream",
     "text": [
      "Enter First Number :25\n",
      "Enter Second Number :5\n",
      "Enter Operation :+\n",
      "30\n"
     ]
    }
   ],
   "source": [
    "calc()"
   ]
  },
  {
   "cell_type": "markdown",
   "metadata": {},
   "source": [
    "# Passing Information to Functions"
   ]
  },
  {
   "cell_type": "code",
   "execution_count": 15,
   "metadata": {},
   "outputs": [],
   "source": [
    "def calc_2(first_number, second_number):\n",
    "    operation= (input(\"Enter Operation :\"))\n",
    "    if operation == \"+\":\n",
    "        print(first_number+second_number)\n",
    "    elif operation == \"-\":\n",
    "        print(first_number-second_number)\n",
    "    elif operation == \"*\":\n",
    "        print(first_number*second_number)\n",
    "    elif operation == \"/\":\n",
    "        print(first_number/second_number)\n",
    "    else:\n",
    "        print(\"Unindentified Operation\")"
   ]
  },
  {
   "cell_type": "code",
   "execution_count": 16,
   "metadata": {},
   "outputs": [
    {
     "name": "stdout",
     "output_type": "stream",
     "text": [
      "Enter Operation :*\n",
      "150\n"
     ]
    }
   ],
   "source": [
    "calc_2(25,6)"
   ]
  },
  {
   "cell_type": "code",
   "execution_count": null,
   "metadata": {},
   "outputs": [],
   "source": []
  }
 ],
 "metadata": {
  "kernelspec": {
   "display_name": "Python 3",
   "language": "python",
   "name": "python3"
  },
  "language_info": {
   "codemirror_mode": {
    "name": "ipython",
    "version": 3
   },
   "file_extension": ".py",
   "mimetype": "text/x-python",
   "name": "python",
   "nbconvert_exporter": "python",
   "pygments_lexer": "ipython3",
   "version": "3.8.5"
  }
 },
 "nbformat": 4,
 "nbformat_minor": 4
}
